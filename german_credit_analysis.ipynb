{
  "nbformat": 4,
  "nbformat_minor": 0,
  "metadata": {
    "colab": {
      "name": "EDA1_Project_Answers.ipynb",
      "provenance": [],
      "collapsed_sections": []
    },
    "kernelspec": {
      "name": "python3",
      "display_name": "Python 3"
    },
    "language_info": {
      "name": "python"
    }
  },
  "cells": [
    {
      "cell_type": "markdown",
      "source": [
        "**Introduction:**\n",
        "\n",
        "Here I have a dataset and it is based on the \n",
        "“Statlog Dataset” from \n",
        "the UCI Machine Learning Repository. The main aim \n",
        "of this project \n",
        "is to find the credit worthiness of the customers.\n",
        "Creditworthiness helps the lender determine that you will default on your debt obligations, or how worthy are you to receive new credit.Creditworthiness is what they look at when they are to decide to give you new credits.In this data set we have 1000 records and 10 columns.  In this dataset, each entry represents a person who takes a credit by a bank.\n",
        "Here we have features of our dataset.\n",
        "\n",
        "**Features:**\n",
        "\n",
        "*  Age (numeric)\n",
        "*  Sex (text: male, female)\n",
        "\n",
        "\n",
        "*  Job (numeric: 0 - unskilled and non-resident, 1 - unskilled    and resident, 2 - skilled, 3 - highly skilled)\n",
        "\n",
        "*   Housing (text: own, rent, or free)\n",
        "\n",
        "*   Saving accounts (text - little, moderate, quite rich, rich)\n",
        "*   Checking account (text - little, moderate, rich)\n",
        "\n",
        "\n",
        "*   Credit amount (numeric, in Deutsche Mark)\n",
        "\n",
        "*   Duration (numeric, in month)\n",
        "\n",
        "*  Purpose (text: car, furniture/equipment, radio/TV, domestic appliances, repairs, education, business, vacation/others\n",
        "\n",
        "\n",
        "\n",
        "\n",
        "\n",
        "\n"
      ],
      "metadata": {
        "id": "Xkb7SYy9YgXu"
      }
    },
    {
      "cell_type": "markdown",
      "source": [
        "Importing some important libraries for visualization"
      ],
      "metadata": {
        "id": "d9Lo6VOTNOx4"
      }
    },
    {
      "cell_type": "code",
      "execution_count": 290,
      "metadata": {
        "id": "R2nMslzwxke7"
      },
      "outputs": [],
      "source": [
        "# importing os module it provides functions for creating and removing a directory (folder), fetching its contents,\n",
        "# changing and identifying the current directory, etc\n",
        "import os \n",
        "import numpy as np # importing numpy as required for pandas\n",
        "import pandas as pd # importing pandas\n",
        "import matplotlib.pyplot as plt # importing matplotlib for visualization\n",
        "import seaborn as sns # importing seaborn for visualization\n",
        "from matplotlib import rcParams # import rcParams library\n"
      ]
    },
    {
      "cell_type": "markdown",
      "source": [
        "Loading the dataset  by using pandas\n",
        "\n",
        "\n",
        "\n"
      ],
      "metadata": {
        "id": "QvNDfsGINVy8"
      }
    },
    {
      "cell_type": "code",
      "source": [
        "data = pd.read_csv('/content/EDA_week_1_mandatory_german_Credit.csv') # loading our dataset named german credit\n",
        "data.head() # Displaying first 5 lines of the dataset\n"
      ],
      "metadata": {
        "colab": {
          "base_uri": "https://localhost:8080/",
          "height": 206
        },
        "id": "Xz_9tdt6yBnM",
        "outputId": "21fe4520-b04f-428c-ee78-2004db4ebe0d"
      },
      "execution_count": 291,
      "outputs": [
        {
          "output_type": "execute_result",
          "data": {
            "text/plain": [
              "   Unnamed: 0  Age     Sex  Job Housing Saving accounts Checking account  \\\n",
              "0           0   67    male    2     own             NaN           little   \n",
              "1           1   22  female    2     own          little         moderate   \n",
              "2           2   49    male    1     own          little              NaN   \n",
              "3           3   45    male    2    free          little           little   \n",
              "4           4   53    male    2    free          little           little   \n",
              "\n",
              "   Credit amount  Duration              Purpose  \n",
              "0           1169         6             radio/TV  \n",
              "1           5951        48             radio/TV  \n",
              "2           2096        12            education  \n",
              "3           7882        42  furniture/equipment  \n",
              "4           4870        24                  car  "
            ],
            "text/html": [
              "\n",
              "  <div id=\"df-c54acc59-bc40-457a-b7a9-a7dbab2bc060\">\n",
              "    <div class=\"colab-df-container\">\n",
              "      <div>\n",
              "<style scoped>\n",
              "    .dataframe tbody tr th:only-of-type {\n",
              "        vertical-align: middle;\n",
              "    }\n",
              "\n",
              "    .dataframe tbody tr th {\n",
              "        vertical-align: top;\n",
              "    }\n",
              "\n",
              "    .dataframe thead th {\n",
              "        text-align: right;\n",
              "    }\n",
              "</style>\n",
              "<table border=\"1\" class=\"dataframe\">\n",
              "  <thead>\n",
              "    <tr style=\"text-align: right;\">\n",
              "      <th></th>\n",
              "      <th>Unnamed: 0</th>\n",
              "      <th>Age</th>\n",
              "      <th>Sex</th>\n",
              "      <th>Job</th>\n",
              "      <th>Housing</th>\n",
              "      <th>Saving accounts</th>\n",
              "      <th>Checking account</th>\n",
              "      <th>Credit amount</th>\n",
              "      <th>Duration</th>\n",
              "      <th>Purpose</th>\n",
              "    </tr>\n",
              "  </thead>\n",
              "  <tbody>\n",
              "    <tr>\n",
              "      <th>0</th>\n",
              "      <td>0</td>\n",
              "      <td>67</td>\n",
              "      <td>male</td>\n",
              "      <td>2</td>\n",
              "      <td>own</td>\n",
              "      <td>NaN</td>\n",
              "      <td>little</td>\n",
              "      <td>1169</td>\n",
              "      <td>6</td>\n",
              "      <td>radio/TV</td>\n",
              "    </tr>\n",
              "    <tr>\n",
              "      <th>1</th>\n",
              "      <td>1</td>\n",
              "      <td>22</td>\n",
              "      <td>female</td>\n",
              "      <td>2</td>\n",
              "      <td>own</td>\n",
              "      <td>little</td>\n",
              "      <td>moderate</td>\n",
              "      <td>5951</td>\n",
              "      <td>48</td>\n",
              "      <td>radio/TV</td>\n",
              "    </tr>\n",
              "    <tr>\n",
              "      <th>2</th>\n",
              "      <td>2</td>\n",
              "      <td>49</td>\n",
              "      <td>male</td>\n",
              "      <td>1</td>\n",
              "      <td>own</td>\n",
              "      <td>little</td>\n",
              "      <td>NaN</td>\n",
              "      <td>2096</td>\n",
              "      <td>12</td>\n",
              "      <td>education</td>\n",
              "    </tr>\n",
              "    <tr>\n",
              "      <th>3</th>\n",
              "      <td>3</td>\n",
              "      <td>45</td>\n",
              "      <td>male</td>\n",
              "      <td>2</td>\n",
              "      <td>free</td>\n",
              "      <td>little</td>\n",
              "      <td>little</td>\n",
              "      <td>7882</td>\n",
              "      <td>42</td>\n",
              "      <td>furniture/equipment</td>\n",
              "    </tr>\n",
              "    <tr>\n",
              "      <th>4</th>\n",
              "      <td>4</td>\n",
              "      <td>53</td>\n",
              "      <td>male</td>\n",
              "      <td>2</td>\n",
              "      <td>free</td>\n",
              "      <td>little</td>\n",
              "      <td>little</td>\n",
              "      <td>4870</td>\n",
              "      <td>24</td>\n",
              "      <td>car</td>\n",
              "    </tr>\n",
              "  </tbody>\n",
              "</table>\n",
              "</div>\n",
              "      <button class=\"colab-df-convert\" onclick=\"convertToInteractive('df-c54acc59-bc40-457a-b7a9-a7dbab2bc060')\"\n",
              "              title=\"Convert this dataframe to an interactive table.\"\n",
              "              style=\"display:none;\">\n",
              "        \n",
              "  <svg xmlns=\"http://www.w3.org/2000/svg\" height=\"24px\"viewBox=\"0 0 24 24\"\n",
              "       width=\"24px\">\n",
              "    <path d=\"M0 0h24v24H0V0z\" fill=\"none\"/>\n",
              "    <path d=\"M18.56 5.44l.94 2.06.94-2.06 2.06-.94-2.06-.94-.94-2.06-.94 2.06-2.06.94zm-11 1L8.5 8.5l.94-2.06 2.06-.94-2.06-.94L8.5 2.5l-.94 2.06-2.06.94zm10 10l.94 2.06.94-2.06 2.06-.94-2.06-.94-.94-2.06-.94 2.06-2.06.94z\"/><path d=\"M17.41 7.96l-1.37-1.37c-.4-.4-.92-.59-1.43-.59-.52 0-1.04.2-1.43.59L10.3 9.45l-7.72 7.72c-.78.78-.78 2.05 0 2.83L4 21.41c.39.39.9.59 1.41.59.51 0 1.02-.2 1.41-.59l7.78-7.78 2.81-2.81c.8-.78.8-2.07 0-2.86zM5.41 20L4 18.59l7.72-7.72 1.47 1.35L5.41 20z\"/>\n",
              "  </svg>\n",
              "      </button>\n",
              "      \n",
              "  <style>\n",
              "    .colab-df-container {\n",
              "      display:flex;\n",
              "      flex-wrap:wrap;\n",
              "      gap: 12px;\n",
              "    }\n",
              "\n",
              "    .colab-df-convert {\n",
              "      background-color: #E8F0FE;\n",
              "      border: none;\n",
              "      border-radius: 50%;\n",
              "      cursor: pointer;\n",
              "      display: none;\n",
              "      fill: #1967D2;\n",
              "      height: 32px;\n",
              "      padding: 0 0 0 0;\n",
              "      width: 32px;\n",
              "    }\n",
              "\n",
              "    .colab-df-convert:hover {\n",
              "      background-color: #E2EBFA;\n",
              "      box-shadow: 0px 1px 2px rgba(60, 64, 67, 0.3), 0px 1px 3px 1px rgba(60, 64, 67, 0.15);\n",
              "      fill: #174EA6;\n",
              "    }\n",
              "\n",
              "    [theme=dark] .colab-df-convert {\n",
              "      background-color: #3B4455;\n",
              "      fill: #D2E3FC;\n",
              "    }\n",
              "\n",
              "    [theme=dark] .colab-df-convert:hover {\n",
              "      background-color: #434B5C;\n",
              "      box-shadow: 0px 1px 3px 1px rgba(0, 0, 0, 0.15);\n",
              "      filter: drop-shadow(0px 1px 2px rgba(0, 0, 0, 0.3));\n",
              "      fill: #FFFFFF;\n",
              "    }\n",
              "  </style>\n",
              "\n",
              "      <script>\n",
              "        const buttonEl =\n",
              "          document.querySelector('#df-c54acc59-bc40-457a-b7a9-a7dbab2bc060 button.colab-df-convert');\n",
              "        buttonEl.style.display =\n",
              "          google.colab.kernel.accessAllowed ? 'block' : 'none';\n",
              "\n",
              "        async function convertToInteractive(key) {\n",
              "          const element = document.querySelector('#df-c54acc59-bc40-457a-b7a9-a7dbab2bc060');\n",
              "          const dataTable =\n",
              "            await google.colab.kernel.invokeFunction('convertToInteractive',\n",
              "                                                     [key], {});\n",
              "          if (!dataTable) return;\n",
              "\n",
              "          const docLinkHtml = 'Like what you see? Visit the ' +\n",
              "            '<a target=\"_blank\" href=https://colab.research.google.com/notebooks/data_table.ipynb>data table notebook</a>'\n",
              "            + ' to learn more about interactive tables.';\n",
              "          element.innerHTML = '';\n",
              "          dataTable['output_type'] = 'display_data';\n",
              "          await google.colab.output.renderOutput(dataTable, element);\n",
              "          const docLink = document.createElement('div');\n",
              "          docLink.innerHTML = docLinkHtml;\n",
              "          element.appendChild(docLink);\n",
              "        }\n",
              "      </script>\n",
              "    </div>\n",
              "  </div>\n",
              "  "
            ]
          },
          "metadata": {},
          "execution_count": 291
        }
      ]
    },
    {
      "cell_type": "markdown",
      "source": [
        "1. Perform basic exploration of data."
      ],
      "metadata": {
        "id": "j-xBQA-E1veu"
      }
    },
    {
      "cell_type": "markdown",
      "source": [
        "\n",
        "**Basic Exploration of the dataset:**\n",
        "\n",
        "\n"
      ],
      "metadata": {
        "id": "hwBBMrGGOwaP"
      }
    },
    {
      "cell_type": "markdown",
      "source": [
        "*   The first phase of this project is to see what \n",
        "is our data made about or Information about the dataset\n",
        "*   Shape of the dataset(To know number of rows and columns)\n",
        "*   Which variables are numerical or categorical, If needed we have to change the datatypes also.\n",
        "*   Removing unnecessary columns\n",
        "*   Renaming columns for better understanding of the data\n",
        "*   Statistical summary of the dataset.\n",
        "\n",
        "\n",
        "\n",
        "\n",
        "\n",
        "  \n",
        "\n",
        "\n",
        "\n",
        " \n",
        "\n"
      ],
      "metadata": {
        "id": "BPqY0n8nO8LZ"
      }
    },
    {
      "cell_type": "markdown",
      "source": [
        "The first thing we will check is the size of our dataset. We can use info() to get the number of entries of each column."
      ],
      "metadata": {
        "id": "a52mbgeQHadY"
      }
    },
    {
      "cell_type": "code",
      "source": [
        "data.info() # information about the dataset"
      ],
      "metadata": {
        "colab": {
          "base_uri": "https://localhost:8080/"
        },
        "id": "GIPG28yyzRSI",
        "outputId": "693f80cd-4b5e-46be-cb09-f48609ec55ea"
      },
      "execution_count": 225,
      "outputs": [
        {
          "output_type": "stream",
          "name": "stdout",
          "text": [
            "<class 'pandas.core.frame.DataFrame'>\n",
            "RangeIndex: 1000 entries, 0 to 999\n",
            "Data columns (total 10 columns):\n",
            " #   Column            Non-Null Count  Dtype \n",
            "---  ------            --------------  ----- \n",
            " 0   Unnamed: 0        1000 non-null   int64 \n",
            " 1   Age               1000 non-null   int64 \n",
            " 2   Sex               1000 non-null   object\n",
            " 3   Job               1000 non-null   int64 \n",
            " 4   Housing           1000 non-null   object\n",
            " 5   Saving accounts   817 non-null    object\n",
            " 6   Checking account  606 non-null    object\n",
            " 7   Credit amount     1000 non-null   int64 \n",
            " 8   Duration          1000 non-null   int64 \n",
            " 9   Purpose           1000 non-null   object\n",
            "dtypes: int64(5), object(5)\n",
            "memory usage: 78.2+ KB\n"
          ]
        }
      ]
    },
    {
      "cell_type": "markdown",
      "source": [
        "By looking at the above information got to know that 'Job' is type int. So here I'm taking that 'Job' as a  categorical data. So it should be type object thas' the reason I'm  converting the integer to object by using astype()"
      ],
      "metadata": {
        "id": "lFCjWcPEDrMC"
      }
    },
    {
      "cell_type": "code",
      "source": [
        "data['Job'] = data['Job'].astype(str) # Covnerting the data type int to Object\n",
        "data.info()"
      ],
      "metadata": {
        "colab": {
          "base_uri": "https://localhost:8080/"
        },
        "id": "tWYblD-ZCeAe",
        "outputId": "1521d232-2d70-4554-eb26-4e7247cd8b15"
      },
      "execution_count": 226,
      "outputs": [
        {
          "output_type": "stream",
          "name": "stdout",
          "text": [
            "<class 'pandas.core.frame.DataFrame'>\n",
            "RangeIndex: 1000 entries, 0 to 999\n",
            "Data columns (total 10 columns):\n",
            " #   Column            Non-Null Count  Dtype \n",
            "---  ------            --------------  ----- \n",
            " 0   Unnamed: 0        1000 non-null   int64 \n",
            " 1   Age               1000 non-null   int64 \n",
            " 2   Sex               1000 non-null   object\n",
            " 3   Job               1000 non-null   object\n",
            " 4   Housing           1000 non-null   object\n",
            " 5   Saving accounts   817 non-null    object\n",
            " 6   Checking account  606 non-null    object\n",
            " 7   Credit amount     1000 non-null   int64 \n",
            " 8   Duration          1000 non-null   int64 \n",
            " 9   Purpose           1000 non-null   object\n",
            "dtypes: int64(4), object(6)\n",
            "memory usage: 78.2+ KB\n"
          ]
        }
      ]
    },
    {
      "cell_type": "markdown",
      "source": [
        "Now, here we can also check the shape of the database to get the number of rows and columns."
      ],
      "metadata": {
        "id": "BXD6TzmzN1Bb"
      }
    },
    {
      "cell_type": "code",
      "source": [
        "data.shape # to get number of rows and columns in the dataset"
      ],
      "metadata": {
        "colab": {
          "base_uri": "https://localhost:8080/"
        },
        "id": "6zae-I8mOEdi",
        "outputId": "dbb3f971-d7cd-41c8-bc4c-67ed1f431603"
      },
      "execution_count": 227,
      "outputs": [
        {
          "output_type": "execute_result",
          "data": {
            "text/plain": [
              "(1000, 10)"
            ]
          },
          "metadata": {},
          "execution_count": 227
        }
      ]
    },
    {
      "cell_type": "markdown",
      "source": [
        "Data types of the columns and removing unnecessary columns from the dataset."
      ],
      "metadata": {
        "id": "UYs8FEmxVFcq"
      }
    },
    {
      "cell_type": "code",
      "source": [
        "numerical = ['Credit amount','Age','Duration'] # These are the numerical features of the dataset\n",
        "categorical = ['Sex','Job','Housing','Saving accounts','Checking account','Purpose'] # These are the categorical features of the dataset\n",
        "unused = ['Unnamed: 0'] # This is the unused column from the dataset\n",
        "\n",
        "data = data.drop(columns = unused) # Here I removed the unused column\n",
        "data.shape # now we can get the number of columns and rows of the dataset"
      ],
      "metadata": {
        "colab": {
          "base_uri": "https://localhost:8080/"
        },
        "id": "LYfRVNWhSCA2",
        "outputId": "f8732e26-d7d6-4813-ddc2-e1e6502bb8cd"
      },
      "execution_count": 298,
      "outputs": [
        {
          "output_type": "execute_result",
          "data": {
            "text/plain": [
              "(1000, 9)"
            ]
          },
          "metadata": {},
          "execution_count": 298
        }
      ]
    },
    {
      "cell_type": "markdown",
      "source": [
        "In the above code I removed the unused colum named as 'Unnamed'. Now I have only 9 columns."
      ],
      "metadata": {
        "id": "zB0zyV1zf7UC"
      }
    },
    {
      "cell_type": "markdown",
      "source": [
        "Here I'm renaming the columns by removing spaces for better understanding"
      ],
      "metadata": {
        "id": "ZMjYew_7gfE5"
      }
    },
    {
      "cell_type": "code",
      "source": [
        "# Renaming the columns for proper understanding\n",
        "data = data.rename(columns = {'Credit amount':'Credit_amount', 'Saving accounts':\n",
        "                              'Saving_accounts', 'Checking account':'Checking_account'})\n",
        "data.head()"
      ],
      "metadata": {
        "colab": {
          "base_uri": "https://localhost:8080/",
          "height": 206
        },
        "id": "Y9Wkin6jf1UY",
        "outputId": "1fbca0e7-243f-4f62-aa44-09651cc73655"
      },
      "execution_count": 299,
      "outputs": [
        {
          "output_type": "execute_result",
          "data": {
            "text/plain": [
              "   Age     Sex  Job Housing Saving_accounts Checking_account  Credit_amount  \\\n",
              "0   67    male    2     own             NaN           little           1169   \n",
              "1   22  female    2     own          little         moderate           5951   \n",
              "2   49    male    1     own          little              NaN           2096   \n",
              "3   45    male    2    free          little           little           7882   \n",
              "4   53    male    2    free          little           little           4870   \n",
              "\n",
              "   Duration              Purpose  \n",
              "0         6             radio/TV  \n",
              "1        48             radio/TV  \n",
              "2        12            education  \n",
              "3        42  furniture/equipment  \n",
              "4        24                  car  "
            ],
            "text/html": [
              "\n",
              "  <div id=\"df-414bf38f-1167-43da-9464-625370d6ca5b\">\n",
              "    <div class=\"colab-df-container\">\n",
              "      <div>\n",
              "<style scoped>\n",
              "    .dataframe tbody tr th:only-of-type {\n",
              "        vertical-align: middle;\n",
              "    }\n",
              "\n",
              "    .dataframe tbody tr th {\n",
              "        vertical-align: top;\n",
              "    }\n",
              "\n",
              "    .dataframe thead th {\n",
              "        text-align: right;\n",
              "    }\n",
              "</style>\n",
              "<table border=\"1\" class=\"dataframe\">\n",
              "  <thead>\n",
              "    <tr style=\"text-align: right;\">\n",
              "      <th></th>\n",
              "      <th>Age</th>\n",
              "      <th>Sex</th>\n",
              "      <th>Job</th>\n",
              "      <th>Housing</th>\n",
              "      <th>Saving_accounts</th>\n",
              "      <th>Checking_account</th>\n",
              "      <th>Credit_amount</th>\n",
              "      <th>Duration</th>\n",
              "      <th>Purpose</th>\n",
              "    </tr>\n",
              "  </thead>\n",
              "  <tbody>\n",
              "    <tr>\n",
              "      <th>0</th>\n",
              "      <td>67</td>\n",
              "      <td>male</td>\n",
              "      <td>2</td>\n",
              "      <td>own</td>\n",
              "      <td>NaN</td>\n",
              "      <td>little</td>\n",
              "      <td>1169</td>\n",
              "      <td>6</td>\n",
              "      <td>radio/TV</td>\n",
              "    </tr>\n",
              "    <tr>\n",
              "      <th>1</th>\n",
              "      <td>22</td>\n",
              "      <td>female</td>\n",
              "      <td>2</td>\n",
              "      <td>own</td>\n",
              "      <td>little</td>\n",
              "      <td>moderate</td>\n",
              "      <td>5951</td>\n",
              "      <td>48</td>\n",
              "      <td>radio/TV</td>\n",
              "    </tr>\n",
              "    <tr>\n",
              "      <th>2</th>\n",
              "      <td>49</td>\n",
              "      <td>male</td>\n",
              "      <td>1</td>\n",
              "      <td>own</td>\n",
              "      <td>little</td>\n",
              "      <td>NaN</td>\n",
              "      <td>2096</td>\n",
              "      <td>12</td>\n",
              "      <td>education</td>\n",
              "    </tr>\n",
              "    <tr>\n",
              "      <th>3</th>\n",
              "      <td>45</td>\n",
              "      <td>male</td>\n",
              "      <td>2</td>\n",
              "      <td>free</td>\n",
              "      <td>little</td>\n",
              "      <td>little</td>\n",
              "      <td>7882</td>\n",
              "      <td>42</td>\n",
              "      <td>furniture/equipment</td>\n",
              "    </tr>\n",
              "    <tr>\n",
              "      <th>4</th>\n",
              "      <td>53</td>\n",
              "      <td>male</td>\n",
              "      <td>2</td>\n",
              "      <td>free</td>\n",
              "      <td>little</td>\n",
              "      <td>little</td>\n",
              "      <td>4870</td>\n",
              "      <td>24</td>\n",
              "      <td>car</td>\n",
              "    </tr>\n",
              "  </tbody>\n",
              "</table>\n",
              "</div>\n",
              "      <button class=\"colab-df-convert\" onclick=\"convertToInteractive('df-414bf38f-1167-43da-9464-625370d6ca5b')\"\n",
              "              title=\"Convert this dataframe to an interactive table.\"\n",
              "              style=\"display:none;\">\n",
              "        \n",
              "  <svg xmlns=\"http://www.w3.org/2000/svg\" height=\"24px\"viewBox=\"0 0 24 24\"\n",
              "       width=\"24px\">\n",
              "    <path d=\"M0 0h24v24H0V0z\" fill=\"none\"/>\n",
              "    <path d=\"M18.56 5.44l.94 2.06.94-2.06 2.06-.94-2.06-.94-.94-2.06-.94 2.06-2.06.94zm-11 1L8.5 8.5l.94-2.06 2.06-.94-2.06-.94L8.5 2.5l-.94 2.06-2.06.94zm10 10l.94 2.06.94-2.06 2.06-.94-2.06-.94-.94-2.06-.94 2.06-2.06.94z\"/><path d=\"M17.41 7.96l-1.37-1.37c-.4-.4-.92-.59-1.43-.59-.52 0-1.04.2-1.43.59L10.3 9.45l-7.72 7.72c-.78.78-.78 2.05 0 2.83L4 21.41c.39.39.9.59 1.41.59.51 0 1.02-.2 1.41-.59l7.78-7.78 2.81-2.81c.8-.78.8-2.07 0-2.86zM5.41 20L4 18.59l7.72-7.72 1.47 1.35L5.41 20z\"/>\n",
              "  </svg>\n",
              "      </button>\n",
              "      \n",
              "  <style>\n",
              "    .colab-df-container {\n",
              "      display:flex;\n",
              "      flex-wrap:wrap;\n",
              "      gap: 12px;\n",
              "    }\n",
              "\n",
              "    .colab-df-convert {\n",
              "      background-color: #E8F0FE;\n",
              "      border: none;\n",
              "      border-radius: 50%;\n",
              "      cursor: pointer;\n",
              "      display: none;\n",
              "      fill: #1967D2;\n",
              "      height: 32px;\n",
              "      padding: 0 0 0 0;\n",
              "      width: 32px;\n",
              "    }\n",
              "\n",
              "    .colab-df-convert:hover {\n",
              "      background-color: #E2EBFA;\n",
              "      box-shadow: 0px 1px 2px rgba(60, 64, 67, 0.3), 0px 1px 3px 1px rgba(60, 64, 67, 0.15);\n",
              "      fill: #174EA6;\n",
              "    }\n",
              "\n",
              "    [theme=dark] .colab-df-convert {\n",
              "      background-color: #3B4455;\n",
              "      fill: #D2E3FC;\n",
              "    }\n",
              "\n",
              "    [theme=dark] .colab-df-convert:hover {\n",
              "      background-color: #434B5C;\n",
              "      box-shadow: 0px 1px 3px 1px rgba(0, 0, 0, 0.15);\n",
              "      filter: drop-shadow(0px 1px 2px rgba(0, 0, 0, 0.3));\n",
              "      fill: #FFFFFF;\n",
              "    }\n",
              "  </style>\n",
              "\n",
              "      <script>\n",
              "        const buttonEl =\n",
              "          document.querySelector('#df-414bf38f-1167-43da-9464-625370d6ca5b button.colab-df-convert');\n",
              "        buttonEl.style.display =\n",
              "          google.colab.kernel.accessAllowed ? 'block' : 'none';\n",
              "\n",
              "        async function convertToInteractive(key) {\n",
              "          const element = document.querySelector('#df-414bf38f-1167-43da-9464-625370d6ca5b');\n",
              "          const dataTable =\n",
              "            await google.colab.kernel.invokeFunction('convertToInteractive',\n",
              "                                                     [key], {});\n",
              "          if (!dataTable) return;\n",
              "\n",
              "          const docLinkHtml = 'Like what you see? Visit the ' +\n",
              "            '<a target=\"_blank\" href=https://colab.research.google.com/notebooks/data_table.ipynb>data table notebook</a>'\n",
              "            + ' to learn more about interactive tables.';\n",
              "          element.innerHTML = '';\n",
              "          dataTable['output_type'] = 'display_data';\n",
              "          await google.colab.output.renderOutput(dataTable, element);\n",
              "          const docLink = document.createElement('div');\n",
              "          docLink.innerHTML = docLinkHtml;\n",
              "          element.appendChild(docLink);\n",
              "        }\n",
              "      </script>\n",
              "    </div>\n",
              "  </div>\n",
              "  "
            ]
          },
          "metadata": {},
          "execution_count": 299
        }
      ]
    },
    {
      "cell_type": "markdown",
      "source": [
        "Describe works for the whole dataframe and single columns as well. Pandas knows which values are numerical based on the datatype and hides the categorical features."
      ],
      "metadata": {
        "id": "k9YjuI7lI-sb"
      }
    },
    {
      "cell_type": "code",
      "source": [
        "data.describe() # statistical summary of the dataset"
      ],
      "metadata": {
        "colab": {
          "base_uri": "https://localhost:8080/",
          "height": 300
        },
        "id": "W2hYljZ_JYGw",
        "outputId": "963beeed-3dcd-43a1-c749-a6926bbd50af"
      },
      "execution_count": 229,
      "outputs": [
        {
          "output_type": "execute_result",
          "data": {
            "text/plain": [
              "               Age  Credit amount     Duration\n",
              "count  1000.000000    1000.000000  1000.000000\n",
              "mean     35.546000    3271.258000    20.903000\n",
              "std      11.375469    2822.736876    12.058814\n",
              "min      19.000000     250.000000     4.000000\n",
              "25%      27.000000    1365.500000    12.000000\n",
              "50%      33.000000    2319.500000    18.000000\n",
              "75%      42.000000    3972.250000    24.000000\n",
              "max      75.000000   18424.000000    72.000000"
            ],
            "text/html": [
              "\n",
              "  <div id=\"df-b99701ce-89c5-4211-b1ab-8decc183b89b\">\n",
              "    <div class=\"colab-df-container\">\n",
              "      <div>\n",
              "<style scoped>\n",
              "    .dataframe tbody tr th:only-of-type {\n",
              "        vertical-align: middle;\n",
              "    }\n",
              "\n",
              "    .dataframe tbody tr th {\n",
              "        vertical-align: top;\n",
              "    }\n",
              "\n",
              "    .dataframe thead th {\n",
              "        text-align: right;\n",
              "    }\n",
              "</style>\n",
              "<table border=\"1\" class=\"dataframe\">\n",
              "  <thead>\n",
              "    <tr style=\"text-align: right;\">\n",
              "      <th></th>\n",
              "      <th>Age</th>\n",
              "      <th>Credit amount</th>\n",
              "      <th>Duration</th>\n",
              "    </tr>\n",
              "  </thead>\n",
              "  <tbody>\n",
              "    <tr>\n",
              "      <th>count</th>\n",
              "      <td>1000.000000</td>\n",
              "      <td>1000.000000</td>\n",
              "      <td>1000.000000</td>\n",
              "    </tr>\n",
              "    <tr>\n",
              "      <th>mean</th>\n",
              "      <td>35.546000</td>\n",
              "      <td>3271.258000</td>\n",
              "      <td>20.903000</td>\n",
              "    </tr>\n",
              "    <tr>\n",
              "      <th>std</th>\n",
              "      <td>11.375469</td>\n",
              "      <td>2822.736876</td>\n",
              "      <td>12.058814</td>\n",
              "    </tr>\n",
              "    <tr>\n",
              "      <th>min</th>\n",
              "      <td>19.000000</td>\n",
              "      <td>250.000000</td>\n",
              "      <td>4.000000</td>\n",
              "    </tr>\n",
              "    <tr>\n",
              "      <th>25%</th>\n",
              "      <td>27.000000</td>\n",
              "      <td>1365.500000</td>\n",
              "      <td>12.000000</td>\n",
              "    </tr>\n",
              "    <tr>\n",
              "      <th>50%</th>\n",
              "      <td>33.000000</td>\n",
              "      <td>2319.500000</td>\n",
              "      <td>18.000000</td>\n",
              "    </tr>\n",
              "    <tr>\n",
              "      <th>75%</th>\n",
              "      <td>42.000000</td>\n",
              "      <td>3972.250000</td>\n",
              "      <td>24.000000</td>\n",
              "    </tr>\n",
              "    <tr>\n",
              "      <th>max</th>\n",
              "      <td>75.000000</td>\n",
              "      <td>18424.000000</td>\n",
              "      <td>72.000000</td>\n",
              "    </tr>\n",
              "  </tbody>\n",
              "</table>\n",
              "</div>\n",
              "      <button class=\"colab-df-convert\" onclick=\"convertToInteractive('df-b99701ce-89c5-4211-b1ab-8decc183b89b')\"\n",
              "              title=\"Convert this dataframe to an interactive table.\"\n",
              "              style=\"display:none;\">\n",
              "        \n",
              "  <svg xmlns=\"http://www.w3.org/2000/svg\" height=\"24px\"viewBox=\"0 0 24 24\"\n",
              "       width=\"24px\">\n",
              "    <path d=\"M0 0h24v24H0V0z\" fill=\"none\"/>\n",
              "    <path d=\"M18.56 5.44l.94 2.06.94-2.06 2.06-.94-2.06-.94-.94-2.06-.94 2.06-2.06.94zm-11 1L8.5 8.5l.94-2.06 2.06-.94-2.06-.94L8.5 2.5l-.94 2.06-2.06.94zm10 10l.94 2.06.94-2.06 2.06-.94-2.06-.94-.94-2.06-.94 2.06-2.06.94z\"/><path d=\"M17.41 7.96l-1.37-1.37c-.4-.4-.92-.59-1.43-.59-.52 0-1.04.2-1.43.59L10.3 9.45l-7.72 7.72c-.78.78-.78 2.05 0 2.83L4 21.41c.39.39.9.59 1.41.59.51 0 1.02-.2 1.41-.59l7.78-7.78 2.81-2.81c.8-.78.8-2.07 0-2.86zM5.41 20L4 18.59l7.72-7.72 1.47 1.35L5.41 20z\"/>\n",
              "  </svg>\n",
              "      </button>\n",
              "      \n",
              "  <style>\n",
              "    .colab-df-container {\n",
              "      display:flex;\n",
              "      flex-wrap:wrap;\n",
              "      gap: 12px;\n",
              "    }\n",
              "\n",
              "    .colab-df-convert {\n",
              "      background-color: #E8F0FE;\n",
              "      border: none;\n",
              "      border-radius: 50%;\n",
              "      cursor: pointer;\n",
              "      display: none;\n",
              "      fill: #1967D2;\n",
              "      height: 32px;\n",
              "      padding: 0 0 0 0;\n",
              "      width: 32px;\n",
              "    }\n",
              "\n",
              "    .colab-df-convert:hover {\n",
              "      background-color: #E2EBFA;\n",
              "      box-shadow: 0px 1px 2px rgba(60, 64, 67, 0.3), 0px 1px 3px 1px rgba(60, 64, 67, 0.15);\n",
              "      fill: #174EA6;\n",
              "    }\n",
              "\n",
              "    [theme=dark] .colab-df-convert {\n",
              "      background-color: #3B4455;\n",
              "      fill: #D2E3FC;\n",
              "    }\n",
              "\n",
              "    [theme=dark] .colab-df-convert:hover {\n",
              "      background-color: #434B5C;\n",
              "      box-shadow: 0px 1px 3px 1px rgba(0, 0, 0, 0.15);\n",
              "      filter: drop-shadow(0px 1px 2px rgba(0, 0, 0, 0.3));\n",
              "      fill: #FFFFFF;\n",
              "    }\n",
              "  </style>\n",
              "\n",
              "      <script>\n",
              "        const buttonEl =\n",
              "          document.querySelector('#df-b99701ce-89c5-4211-b1ab-8decc183b89b button.colab-df-convert');\n",
              "        buttonEl.style.display =\n",
              "          google.colab.kernel.accessAllowed ? 'block' : 'none';\n",
              "\n",
              "        async function convertToInteractive(key) {\n",
              "          const element = document.querySelector('#df-b99701ce-89c5-4211-b1ab-8decc183b89b');\n",
              "          const dataTable =\n",
              "            await google.colab.kernel.invokeFunction('convertToInteractive',\n",
              "                                                     [key], {});\n",
              "          if (!dataTable) return;\n",
              "\n",
              "          const docLinkHtml = 'Like what you see? Visit the ' +\n",
              "            '<a target=\"_blank\" href=https://colab.research.google.com/notebooks/data_table.ipynb>data table notebook</a>'\n",
              "            + ' to learn more about interactive tables.';\n",
              "          element.innerHTML = '';\n",
              "          dataTable['output_type'] = 'display_data';\n",
              "          await google.colab.output.renderOutput(dataTable, element);\n",
              "          const docLink = document.createElement('div');\n",
              "          docLink.innerHTML = docLinkHtml;\n",
              "          element.appendChild(docLink);\n",
              "        }\n",
              "      </script>\n",
              "    </div>\n",
              "  </div>\n",
              "  "
            ]
          },
          "metadata": {},
          "execution_count": 229
        }
      ]
    },
    {
      "cell_type": "markdown",
      "source": [
        "2. Perform exploratory data analysis and provide key insights derived from the same, backed with suitable graphs and plots. Perform univariate, bivariate and multivariate analysis."
      ],
      "metadata": {
        "id": "jZtJNKNK2nf6"
      }
    },
    {
      "cell_type": "markdown",
      "source": [
        "**Exploratory Data Analysis :**"
      ],
      "metadata": {
        "id": "2UB2n1sWYJsM"
      }
    },
    {
      "cell_type": "markdown",
      "source": [
        "Analysing the amount of missing data"
      ],
      "metadata": {
        "id": "-flnjrHFi7S9"
      }
    },
    {
      "cell_type": "code",
      "source": [
        "data.isnull()"
      ],
      "metadata": {
        "colab": {
          "base_uri": "https://localhost:8080/",
          "height": 423
        },
        "id": "d_hCe6FBi25t",
        "outputId": "18fe232d-eac1-4281-8b9b-f3924a20b890"
      },
      "execution_count": 300,
      "outputs": [
        {
          "output_type": "execute_result",
          "data": {
            "text/plain": [
              "       Age    Sex    Job  Housing  Saving_accounts  Checking_account  \\\n",
              "0    False  False  False    False             True             False   \n",
              "1    False  False  False    False            False             False   \n",
              "2    False  False  False    False            False              True   \n",
              "3    False  False  False    False            False             False   \n",
              "4    False  False  False    False            False             False   \n",
              "..     ...    ...    ...      ...              ...               ...   \n",
              "995  False  False  False    False            False              True   \n",
              "996  False  False  False    False            False             False   \n",
              "997  False  False  False    False            False              True   \n",
              "998  False  False  False    False            False             False   \n",
              "999  False  False  False    False            False             False   \n",
              "\n",
              "     Credit_amount  Duration  Purpose  \n",
              "0            False     False    False  \n",
              "1            False     False    False  \n",
              "2            False     False    False  \n",
              "3            False     False    False  \n",
              "4            False     False    False  \n",
              "..             ...       ...      ...  \n",
              "995          False     False    False  \n",
              "996          False     False    False  \n",
              "997          False     False    False  \n",
              "998          False     False    False  \n",
              "999          False     False    False  \n",
              "\n",
              "[1000 rows x 9 columns]"
            ],
            "text/html": [
              "\n",
              "  <div id=\"df-3a1cea26-2860-44ec-a48f-39f2e2573713\">\n",
              "    <div class=\"colab-df-container\">\n",
              "      <div>\n",
              "<style scoped>\n",
              "    .dataframe tbody tr th:only-of-type {\n",
              "        vertical-align: middle;\n",
              "    }\n",
              "\n",
              "    .dataframe tbody tr th {\n",
              "        vertical-align: top;\n",
              "    }\n",
              "\n",
              "    .dataframe thead th {\n",
              "        text-align: right;\n",
              "    }\n",
              "</style>\n",
              "<table border=\"1\" class=\"dataframe\">\n",
              "  <thead>\n",
              "    <tr style=\"text-align: right;\">\n",
              "      <th></th>\n",
              "      <th>Age</th>\n",
              "      <th>Sex</th>\n",
              "      <th>Job</th>\n",
              "      <th>Housing</th>\n",
              "      <th>Saving_accounts</th>\n",
              "      <th>Checking_account</th>\n",
              "      <th>Credit_amount</th>\n",
              "      <th>Duration</th>\n",
              "      <th>Purpose</th>\n",
              "    </tr>\n",
              "  </thead>\n",
              "  <tbody>\n",
              "    <tr>\n",
              "      <th>0</th>\n",
              "      <td>False</td>\n",
              "      <td>False</td>\n",
              "      <td>False</td>\n",
              "      <td>False</td>\n",
              "      <td>True</td>\n",
              "      <td>False</td>\n",
              "      <td>False</td>\n",
              "      <td>False</td>\n",
              "      <td>False</td>\n",
              "    </tr>\n",
              "    <tr>\n",
              "      <th>1</th>\n",
              "      <td>False</td>\n",
              "      <td>False</td>\n",
              "      <td>False</td>\n",
              "      <td>False</td>\n",
              "      <td>False</td>\n",
              "      <td>False</td>\n",
              "      <td>False</td>\n",
              "      <td>False</td>\n",
              "      <td>False</td>\n",
              "    </tr>\n",
              "    <tr>\n",
              "      <th>2</th>\n",
              "      <td>False</td>\n",
              "      <td>False</td>\n",
              "      <td>False</td>\n",
              "      <td>False</td>\n",
              "      <td>False</td>\n",
              "      <td>True</td>\n",
              "      <td>False</td>\n",
              "      <td>False</td>\n",
              "      <td>False</td>\n",
              "    </tr>\n",
              "    <tr>\n",
              "      <th>3</th>\n",
              "      <td>False</td>\n",
              "      <td>False</td>\n",
              "      <td>False</td>\n",
              "      <td>False</td>\n",
              "      <td>False</td>\n",
              "      <td>False</td>\n",
              "      <td>False</td>\n",
              "      <td>False</td>\n",
              "      <td>False</td>\n",
              "    </tr>\n",
              "    <tr>\n",
              "      <th>4</th>\n",
              "      <td>False</td>\n",
              "      <td>False</td>\n",
              "      <td>False</td>\n",
              "      <td>False</td>\n",
              "      <td>False</td>\n",
              "      <td>False</td>\n",
              "      <td>False</td>\n",
              "      <td>False</td>\n",
              "      <td>False</td>\n",
              "    </tr>\n",
              "    <tr>\n",
              "      <th>...</th>\n",
              "      <td>...</td>\n",
              "      <td>...</td>\n",
              "      <td>...</td>\n",
              "      <td>...</td>\n",
              "      <td>...</td>\n",
              "      <td>...</td>\n",
              "      <td>...</td>\n",
              "      <td>...</td>\n",
              "      <td>...</td>\n",
              "    </tr>\n",
              "    <tr>\n",
              "      <th>995</th>\n",
              "      <td>False</td>\n",
              "      <td>False</td>\n",
              "      <td>False</td>\n",
              "      <td>False</td>\n",
              "      <td>False</td>\n",
              "      <td>True</td>\n",
              "      <td>False</td>\n",
              "      <td>False</td>\n",
              "      <td>False</td>\n",
              "    </tr>\n",
              "    <tr>\n",
              "      <th>996</th>\n",
              "      <td>False</td>\n",
              "      <td>False</td>\n",
              "      <td>False</td>\n",
              "      <td>False</td>\n",
              "      <td>False</td>\n",
              "      <td>False</td>\n",
              "      <td>False</td>\n",
              "      <td>False</td>\n",
              "      <td>False</td>\n",
              "    </tr>\n",
              "    <tr>\n",
              "      <th>997</th>\n",
              "      <td>False</td>\n",
              "      <td>False</td>\n",
              "      <td>False</td>\n",
              "      <td>False</td>\n",
              "      <td>False</td>\n",
              "      <td>True</td>\n",
              "      <td>False</td>\n",
              "      <td>False</td>\n",
              "      <td>False</td>\n",
              "    </tr>\n",
              "    <tr>\n",
              "      <th>998</th>\n",
              "      <td>False</td>\n",
              "      <td>False</td>\n",
              "      <td>False</td>\n",
              "      <td>False</td>\n",
              "      <td>False</td>\n",
              "      <td>False</td>\n",
              "      <td>False</td>\n",
              "      <td>False</td>\n",
              "      <td>False</td>\n",
              "    </tr>\n",
              "    <tr>\n",
              "      <th>999</th>\n",
              "      <td>False</td>\n",
              "      <td>False</td>\n",
              "      <td>False</td>\n",
              "      <td>False</td>\n",
              "      <td>False</td>\n",
              "      <td>False</td>\n",
              "      <td>False</td>\n",
              "      <td>False</td>\n",
              "      <td>False</td>\n",
              "    </tr>\n",
              "  </tbody>\n",
              "</table>\n",
              "<p>1000 rows × 9 columns</p>\n",
              "</div>\n",
              "      <button class=\"colab-df-convert\" onclick=\"convertToInteractive('df-3a1cea26-2860-44ec-a48f-39f2e2573713')\"\n",
              "              title=\"Convert this dataframe to an interactive table.\"\n",
              "              style=\"display:none;\">\n",
              "        \n",
              "  <svg xmlns=\"http://www.w3.org/2000/svg\" height=\"24px\"viewBox=\"0 0 24 24\"\n",
              "       width=\"24px\">\n",
              "    <path d=\"M0 0h24v24H0V0z\" fill=\"none\"/>\n",
              "    <path d=\"M18.56 5.44l.94 2.06.94-2.06 2.06-.94-2.06-.94-.94-2.06-.94 2.06-2.06.94zm-11 1L8.5 8.5l.94-2.06 2.06-.94-2.06-.94L8.5 2.5l-.94 2.06-2.06.94zm10 10l.94 2.06.94-2.06 2.06-.94-2.06-.94-.94-2.06-.94 2.06-2.06.94z\"/><path d=\"M17.41 7.96l-1.37-1.37c-.4-.4-.92-.59-1.43-.59-.52 0-1.04.2-1.43.59L10.3 9.45l-7.72 7.72c-.78.78-.78 2.05 0 2.83L4 21.41c.39.39.9.59 1.41.59.51 0 1.02-.2 1.41-.59l7.78-7.78 2.81-2.81c.8-.78.8-2.07 0-2.86zM5.41 20L4 18.59l7.72-7.72 1.47 1.35L5.41 20z\"/>\n",
              "  </svg>\n",
              "      </button>\n",
              "      \n",
              "  <style>\n",
              "    .colab-df-container {\n",
              "      display:flex;\n",
              "      flex-wrap:wrap;\n",
              "      gap: 12px;\n",
              "    }\n",
              "\n",
              "    .colab-df-convert {\n",
              "      background-color: #E8F0FE;\n",
              "      border: none;\n",
              "      border-radius: 50%;\n",
              "      cursor: pointer;\n",
              "      display: none;\n",
              "      fill: #1967D2;\n",
              "      height: 32px;\n",
              "      padding: 0 0 0 0;\n",
              "      width: 32px;\n",
              "    }\n",
              "\n",
              "    .colab-df-convert:hover {\n",
              "      background-color: #E2EBFA;\n",
              "      box-shadow: 0px 1px 2px rgba(60, 64, 67, 0.3), 0px 1px 3px 1px rgba(60, 64, 67, 0.15);\n",
              "      fill: #174EA6;\n",
              "    }\n",
              "\n",
              "    [theme=dark] .colab-df-convert {\n",
              "      background-color: #3B4455;\n",
              "      fill: #D2E3FC;\n",
              "    }\n",
              "\n",
              "    [theme=dark] .colab-df-convert:hover {\n",
              "      background-color: #434B5C;\n",
              "      box-shadow: 0px 1px 3px 1px rgba(0, 0, 0, 0.15);\n",
              "      filter: drop-shadow(0px 1px 2px rgba(0, 0, 0, 0.3));\n",
              "      fill: #FFFFFF;\n",
              "    }\n",
              "  </style>\n",
              "\n",
              "      <script>\n",
              "        const buttonEl =\n",
              "          document.querySelector('#df-3a1cea26-2860-44ec-a48f-39f2e2573713 button.colab-df-convert');\n",
              "        buttonEl.style.display =\n",
              "          google.colab.kernel.accessAllowed ? 'block' : 'none';\n",
              "\n",
              "        async function convertToInteractive(key) {\n",
              "          const element = document.querySelector('#df-3a1cea26-2860-44ec-a48f-39f2e2573713');\n",
              "          const dataTable =\n",
              "            await google.colab.kernel.invokeFunction('convertToInteractive',\n",
              "                                                     [key], {});\n",
              "          if (!dataTable) return;\n",
              "\n",
              "          const docLinkHtml = 'Like what you see? Visit the ' +\n",
              "            '<a target=\"_blank\" href=https://colab.research.google.com/notebooks/data_table.ipynb>data table notebook</a>'\n",
              "            + ' to learn more about interactive tables.';\n",
              "          element.innerHTML = '';\n",
              "          dataTable['output_type'] = 'display_data';\n",
              "          await google.colab.output.renderOutput(dataTable, element);\n",
              "          const docLink = document.createElement('div');\n",
              "          docLink.innerHTML = docLinkHtml;\n",
              "          element.appendChild(docLink);\n",
              "        }\n",
              "      </script>\n",
              "    </div>\n",
              "  </div>\n",
              "  "
            ]
          },
          "metadata": {},
          "execution_count": 300
        }
      ]
    },
    {
      "cell_type": "code",
      "source": [
        "import missingno as msno # importing missingno for exploratory visualization of missing data.\n",
        "msno.bar(data)"
      ],
      "metadata": {
        "colab": {
          "base_uri": "https://localhost:8080/",
          "height": 543
        },
        "id": "NpjCOs8Fjesz",
        "outputId": "69cbb8b9-df1c-4b84-d9e1-04d91fe70fdd"
      },
      "execution_count": 303,
      "outputs": [
        {
          "output_type": "execute_result",
          "data": {
            "text/plain": [
              "<matplotlib.axes._subplots.AxesSubplot at 0x7fb662b85410>"
            ]
          },
          "metadata": {},
          "execution_count": 303
        },
        {
          "output_type": "display_data",
          "data": {
            "text/plain": [
              "<Figure size 1800x720 with 3 Axes>"
            ],
            "image/png": "[encoded data removed]"
          },
          "metadata": {
            "needs_background": "light"
          }
        }
      ]
    },
    {
      "cell_type": "markdown",
      "source": [
        "By looking at the above graph Saving_accounts and Checking_account\n",
        "have missing values"
      ],
      "metadata": {
        "id": "W098W903njTS"
      }
    },
    {
      "cell_type": "code",
      "source": [
        "msno.matrix(data) # nullity matrix to know null values"
      ],
      "metadata": {
        "colab": {
          "base_uri": "https://localhost:8080/",
          "height": 523
        },
        "id": "Iyigm5AxjxP2",
        "outputId": "d943d62f-f7cc-4c32-fe63-d863e9c80833"
      },
      "execution_count": 302,
      "outputs": [
        {
          "output_type": "execute_result",
          "data": {
            "text/plain": [
              "<matplotlib.axes._subplots.AxesSubplot at 0x7fb662c58f50>"
            ]
          },
          "metadata": {},
          "execution_count": 302
        },
        {
          "output_type": "display_data",
          "data": {
            "text/plain": [
              "<Figure size 1800x720 with 2 Axes>"
            ],
            "image/png": "[encoded data removed]"
          },
          "metadata": {
            "needs_background": "light"
          }
        }
      ]
    },
    {
      "cell_type": "markdown",
      "source": [
        "Missing values will be blank\n",
        "\n",
        "Spart line on the right summarizes the geneal shape \n",
        "of tje data pf completeness and points out the\n",
        "row the minimal number of null values and total count\n",
        "of the columns at the bottom."
      ],
      "metadata": {
        "id": "AmkFLUHukczz"
      }
    },
    {
      "cell_type": "code",
      "source": [
        "#finding out unique variables\n",
        "print(\"Purpose : \",data.Purpose.unique())\n",
        "print(\"Sex : \",data.Sex.unique())\n",
        "print(\"Housing : \",data.Housing.unique())\n",
        "print(\"Saving accounts : \",data.Saving_accounts.unique())\n",
        "print(\"Checking account : \",data.Checking_account.unique())"
      ],
      "metadata": {
        "colab": {
          "base_uri": "https://localhost:8080/"
        },
        "id": "4ghg424HZOah",
        "outputId": "a2b5bf6c-a805-4735-a0bf-f829478920f7"
      },
      "execution_count": 231,
      "outputs": [
        {
          "output_type": "stream",
          "name": "stdout",
          "text": [
            "Purpose :  ['radio/TV' 'education' 'furniture/equipment' 'car' 'business'\n",
            " 'domestic appliances' 'repairs' 'vacation/others']\n",
            "Sex :  ['male' 'female']\n",
            "Housing :  ['own' 'free' 'rent']\n",
            "Saving accounts :  [nan 'little' 'quite rich' 'rich' 'moderate']\n",
            "Checking account :  ['little' 'moderate' nan 'rich']\n"
          ]
        }
      ]
    },
    {
      "cell_type": "markdown",
      "source": [
        "Total missing values"
      ],
      "metadata": {
        "id": "7an5Img3aZJh"
      }
    },
    {
      "cell_type": "code",
      "source": [
        "data.isnull().sum() # finding the count of null values in each column"
      ],
      "metadata": {
        "colab": {
          "base_uri": "https://localhost:8080/"
        },
        "id": "sc4c0paQaJXQ",
        "outputId": "9806e38d-6660-46e6-b155-f9f9ddffb120"
      },
      "execution_count": 232,
      "outputs": [
        {
          "output_type": "execute_result",
          "data": {
            "text/plain": [
              "Age                   0\n",
              "Sex                   0\n",
              "Job                   0\n",
              "Housing               0\n",
              "Saving_accounts     183\n",
              "Checking_account    394\n",
              "Credit_amount         0\n",
              "Duration              0\n",
              "Purpose               0\n",
              "dtype: int64"
            ]
          },
          "metadata": {},
          "execution_count": 232
        }
      ]
    },
    {
      "cell_type": "markdown",
      "source": [
        "Here I have missing values in categorical columns those are Saving_accounts, Checking_account. So here I'm replacing those null values with mode()."
      ],
      "metadata": {
        "id": "nWIevktWoLOL"
      }
    },
    {
      "cell_type": "code",
      "source": [
        "# Replacing null values with mode().\n",
        "# categorical = ['Sex','Job','Housing','Saving accounts','Checking account','Purpose']\n",
        "# This below code also to fill the na values with mode() but because of google colab error it is not working so i tried it in another way\n",
        "\n",
        "#  for cat in categorical:\n",
        "#   data[cat] = data[cat].fillna(data[cat].mode().values[0])\n",
        "# data.isna().sum() \n",
        "\n",
        "data['Saving_accounts'] = data['Saving_accounts'].fillna(data['Saving_accounts'].mode().values[0]) # To fill the null values with mode value\n",
        "data['Checking_account'] = data['Checking_account'].fillna(data['Checking_account'].mode().values[0]) # To fill the null values with mode value\n",
        "data.isnull().sum()"
      ],
      "metadata": {
        "colab": {
          "base_uri": "https://localhost:8080/"
        },
        "id": "b37yWhv_kgtB",
        "outputId": "c74cbaaa-6cf8-4959-914e-f9f5b9c4491d"
      },
      "execution_count": 308,
      "outputs": [
        {
          "output_type": "execute_result",
          "data": {
            "text/plain": [
              "Age                 0\n",
              "Sex                 0\n",
              "Job                 0\n",
              "Housing             0\n",
              "Saving_accounts     0\n",
              "Checking_account    0\n",
              "Credit_amount       0\n",
              "Duration            0\n",
              "Purpose             0\n",
              "dtype: int64"
            ]
          },
          "metadata": {},
          "execution_count": 308
        }
      ]
    },
    {
      "cell_type": "markdown",
      "source": [
        "**Univariate Plotting**"
      ],
      "metadata": {
        "id": "58FFni8yKr_U"
      }
    },
    {
      "cell_type": "markdown",
      "source": [
        "**Numerical columns:**"
      ],
      "metadata": {
        "id": "DO_1GAVGpMIr"
      }
    },
    {
      "cell_type": "markdown",
      "source": [
        "Let's start by visualizing the distribution of the data. We can achieve this with a simple method called histogram by passing our columns of data"
      ],
      "metadata": {
        "id": "OYogCRJUan1E"
      }
    },
    {
      "cell_type": "code",
      "source": [
        "sns.histplot(data=data['Age'], kde=True) # Distribution of the column Age\n",
        "plt.axvline(x=data.Age.mean(),color='red',label='Mean') # To show the mean\n",
        "plt.axvline(x=data.Age.median(),c='blue',ls='--',label='Median') # To show the Median\n",
        "plt.legend()\n",
        "print(\"Skewness: %f\" % data['Age'].skew())"
      ],
      "metadata": {
        "colab": {
          "base_uri": "https://localhost:8080/",
          "height": 258
        },
        "id": "kWFDLrsmrEta",
        "outputId": "1585480a-8694-4289-90fd-117880f3df39"
      },
      "execution_count": 316,
      "outputs": [
        {
          "output_type": "stream",
          "name": "stdout",
          "text": [
            "Skewness: 1.020739\n"
          ]
        },
        {
          "output_type": "display_data",
          "data": {
            "text/plain": [
              "<Figure size 482.4x235.44 with 1 Axes>"
            ],
            "image/png": "[encoded data removed]"
          },
          "metadata": {
            "needs_background": "light"
          }
        }
      ]
    },
    {
      "cell_type": "markdown",
      "source": [
        "By looking at the above graph and skewness value it is posively skewed."
      ],
      "metadata": {
        "id": "X-dnCArbr1xA"
      }
    },
    {
      "cell_type": "code",
      "source": [
        "sns.histplot(data=data['Credit_amount'], kde=True) # Distribution of the column Credit_amount.\n",
        "plt.axvline(x=data.Credit_amount.mean(),color='red',label='Mean') # To show the mean\n",
        "plt.axvline(x=data.Credit_amount.median(),c='blue',ls='--',label='Median') # To show the median\n",
        "plt.legend()\n",
        "print(\"Skewness: %f\" % data['Credit_amount'].skew())"
      ],
      "metadata": {
        "colab": {
          "base_uri": "https://localhost:8080/",
          "height": 259
        },
        "id": "N4E1dNlJnhcn",
        "outputId": "fe7b2d27-dd95-425c-e954-28c67d500f68"
      },
      "execution_count": 318,
      "outputs": [
        {
          "output_type": "stream",
          "name": "stdout",
          "text": [
            "Skewness: 1.949628\n"
          ]
        },
        {
          "output_type": "display_data",
          "data": {
            "text/plain": [
              "<Figure size 482.4x235.44 with 1 Axes>"
            ],
            "image/png": "[encoded data removed]"
          },
          "metadata": {
            "needs_background": "light"
          }
        }
      ]
    },
    {
      "cell_type": "markdown",
      "source": [
        "By looking at the above graph and skewness value it is posively skewed."
      ],
      "metadata": {
        "id": "BWMV41syo-qT"
      }
    },
    {
      "cell_type": "code",
      "source": [
        "sns.histplot(data=data['Duration'], kde=True) # Distribution of the column Duration\n",
        "plt.axvline(x=data.Duration.mean(),color='red',label='Mean') # To show the mean\n",
        "plt.axvline(x=data.Duration.median(),c='blue',ls='--',label='Median') # To show the median\n",
        "plt.legend()\n",
        "print(\"Skewness: %f\" % data['Duration'].skew())"
      ],
      "metadata": {
        "colab": {
          "base_uri": "https://localhost:8080/",
          "height": 258
        },
        "id": "PXoaB9hVnkVB",
        "outputId": "c799ebea-83db-4649-b230-aa7011e0d132"
      },
      "execution_count": 319,
      "outputs": [
        {
          "output_type": "stream",
          "name": "stdout",
          "text": [
            "Skewness: 1.094184\n"
          ]
        },
        {
          "output_type": "display_data",
          "data": {
            "text/plain": [
              "<Figure size 482.4x235.44 with 1 Axes>"
            ],
            "image/png": "[encoded data removed]"
          },
          "metadata": {
            "needs_background": "light"
          }
        }
      ]
    },
    {
      "cell_type": "markdown",
      "source": [
        "By looking at the above graph and skewness value it is posively skewed."
      ],
      "metadata": {
        "id": "qjR9MmyJpAii"
      }
    },
    {
      "cell_type": "markdown",
      "source": [
        "**Categorical Columns:**"
      ],
      "metadata": {
        "id": "civFwg6bvBjr"
      }
    },
    {
      "cell_type": "code",
      "source": [
        "# categorical = ['Sex','Job','Housing','Saving accounts','Checking account','Purpose']\n",
        "# Counting total numbers in each category\n",
        "count = data['Sex'].value_counts()\n",
        "# Checking the numbers\n",
        "count\n",
        "# Creating categories based on numbers\n",
        "sex = ['Male', 'Female']\n",
        "# Creating plot\n",
        "fig = plt.figure(figsize =(8, 5))\n",
        "# Show plot\n",
        "plt.pie(count, labels = sex, autopct='%1.1f%%',shadow=True, startangle=90)\n",
        "plt.title(\"Pie Chart\")\n",
        "plt.show()\n",
        "print(data['Sex'].value_counts())"
      ],
      "metadata": {
        "colab": {
          "base_uri": "https://localhost:8080/",
          "height": 373
        },
        "id": "RbuNq7phwrS5",
        "outputId": "be37e665-6dda-48f4-ff77-667020ffb8b0"
      },
      "execution_count": 324,
      "outputs": [
        {
          "output_type": "display_data",
          "data": {
            "text/plain": [
              "<Figure size 576x360 with 1 Axes>"
            ],
            "image/png": "[encoded data removed]"
          },
          "metadata": {}
        },
        {
          "output_type": "stream",
          "name": "stdout",
          "text": [
            "male      690\n",
            "female    310\n",
            "Name: Sex, dtype: int64\n"
          ]
        }
      ]
    },
    {
      "cell_type": "markdown",
      "source": [
        "There are 2x more males than females in our dataset"
      ],
      "metadata": {
        "id": "Owskb-UgxsON"
      }
    },
    {
      "cell_type": "code",
      "source": [
        "# Counting total numbers in each category\n",
        "count = data['Job'].value_counts()\n",
        "# Checking the numbers\n",
        "count\n",
        "# Creating categories based on numbers\n",
        "skills = ['2', '1', '3','0']\n",
        "# Creating plot\n",
        "fig = plt.figure(figsize =(8, 5))\n",
        "# Show plot\n",
        "plt.pie(count, labels = skills, autopct='%1.1f%%',shadow=True, startangle=90)\n",
        "plt.title(\"Pie Chart\")\n",
        "plt.show()\n",
        "print(count)"
      ],
      "metadata": {
        "colab": {
          "base_uri": "https://localhost:8080/",
          "height": 409
        },
        "id": "s32oV0_iy-3u",
        "outputId": "a5de49ca-bfad-42e8-85bb-84694f8b7021"
      },
      "execution_count": 329,
      "outputs": [
        {
          "output_type": "display_data",
          "data": {
            "text/plain": [
              "<Figure size 576x360 with 1 Axes>"
            ],
            "image/png": "[encoded data removed]"
          },
          "metadata": {}
        },
        {
          "output_type": "stream",
          "name": "stdout",
          "text": [
            "2    630\n",
            "1    200\n",
            "3    148\n",
            "0     22\n",
            "Name: Job, dtype: int64\n"
          ]
        }
      ]
    },
    {
      "cell_type": "markdown",
      "source": [
        "Most people that applied for a credit loan have two jobs!"
      ],
      "metadata": {
        "id": "NHcd_Kd45Ijd"
      }
    },
    {
      "cell_type": "code",
      "source": [
        "# Counting total numbers in each category\n",
        "count = data['Housing'].value_counts()\n",
        "# Checking the numbers\n",
        "count\n",
        "# Creating categories based on numbers\n",
        "skills = ['own', 'rent', 'free']\n",
        "# Creating plot\n",
        "fig = plt.figure(figsize =(8, 5))\n",
        "# Show plot\n",
        "plt.pie(count, labels = skills, autopct='%1.1f%%',shadow=True, startangle=90)\n",
        "plt.title(\"Pie Chart\")\n",
        "plt.show()\n",
        "print(count)"
      ],
      "metadata": {
        "colab": {
          "base_uri": "https://localhost:8080/",
          "height": 391
        },
        "id": "otJx6Fl50k2Q",
        "outputId": "36710dc0-3caf-4937-9445-a65df1883958"
      },
      "execution_count": 330,
      "outputs": [
        {
          "output_type": "display_data",
          "data": {
            "text/plain": [
              "<Figure size 576x360 with 1 Axes>"
            ],
            "image/png": "[encoded data removed]"
          },
          "metadata": {}
        },
        {
          "output_type": "stream",
          "name": "stdout",
          "text": [
            "own     713\n",
            "rent    179\n",
            "free    108\n",
            "Name: Housing, dtype: int64\n"
          ]
        }
      ]
    },
    {
      "cell_type": "markdown",
      "source": [
        "Most people that applied for a credit loan have Own house."
      ],
      "metadata": {
        "id": "mRP_-puu5Q1m"
      }
    },
    {
      "cell_type": "code",
      "source": [
        "# Counting total numbers in each category\n",
        "count = data['Saving_accounts'].value_counts()\n",
        "# Checking the numbers\n",
        "count\n",
        "# Creating categories based on numbers\n",
        "skills = ['little', 'moderate', 'quite rich','rich']\n",
        "# Creating plot\n",
        "fig = plt.figure(figsize =(8, 5))\n",
        "# Show plot\n",
        "plt.pie(count, labels = skills, autopct='%1.1f%%',shadow=True, startangle=90)\n",
        "plt.title(\"Pie Chart\")\n",
        "plt.show()\n",
        "print(count)"
      ],
      "metadata": {
        "colab": {
          "base_uri": "https://localhost:8080/",
          "height": 409
        },
        "id": "ZV2S0H2G0_yo",
        "outputId": "35634e4f-ed8b-4af1-c6ec-4650acc841b1"
      },
      "execution_count": 333,
      "outputs": [
        {
          "output_type": "display_data",
          "data": {
            "text/plain": [
              "<Figure size 576x360 with 1 Axes>"
            ],
            "image/png": "[encoded data removed]"
          },
          "metadata": {}
        },
        {
          "output_type": "stream",
          "name": "stdout",
          "text": [
            "little        786\n",
            "moderate      103\n",
            "quite rich     63\n",
            "rich           48\n",
            "Name: Saving_accounts, dtype: int64\n"
          ]
        }
      ]
    },
    {
      "cell_type": "markdown",
      "source": [
        "Most people that applied for a credit loan are poor"
      ],
      "metadata": {
        "id": "HZrpct1w5XJ3"
      }
    },
    {
      "cell_type": "code",
      "source": [
        "# Counting total numbers in each category\n",
        "count = data['Checking_account'].value_counts()\n",
        "# Checking the numbers\n",
        "count\n",
        "# Creating categories based on numbers\n",
        "skills = ['little', 'moderate','rich']\n",
        "# Creating plot\n",
        "fig = plt.figure(figsize =(8, 5))\n",
        "# Show plot\n",
        "plt.pie(count, labels=skills, autopct='%1.1f%%',shadow=True, startangle=90)\n",
        "plt.title(\"Pie Chart\")\n",
        "plt.show()\n",
        "print(count)"
      ],
      "metadata": {
        "colab": {
          "base_uri": "https://localhost:8080/",
          "height": 391
        },
        "id": "aNlwYEDr1aUv",
        "outputId": "2dab24aa-fb14-4f39-e390-4e3de6952117"
      },
      "execution_count": 337,
      "outputs": [
        {
          "output_type": "display_data",
          "data": {
            "text/plain": [
              "<Figure size 576x360 with 1 Axes>"
            ],
            "image/png": "[encoded data removed]"
          },
          "metadata": {}
        },
        {
          "output_type": "stream",
          "name": "stdout",
          "text": [
            "little      668\n",
            "moderate    269\n",
            "rich         63\n",
            "Name: Checking_account, dtype: int64\n"
          ]
        }
      ]
    },
    {
      "cell_type": "markdown",
      "source": [
        "Most people that applied for a credit loan are poor"
      ],
      "metadata": {
        "id": "xZ3IoN615hL2"
      }
    },
    {
      "cell_type": "code",
      "source": [
        "# Counting total numbers in each category\n",
        "count = data['Purpose'].value_counts()\n",
        "# Checking the numbers\n",
        "count\n",
        "# Creating categories based on numbers\n",
        "skills = ['car', 'radio/TV', 'furniture/equipment', 'business', \n",
        "          'education','repairs','domestic appliances','vacation/others']\n",
        "# Creating plot\n",
        "fig = plt.figure(figsize =(10, 7))\n",
        "# Show plot\n",
        "plt.pie(count, labels=skills, autopct='%1.1f%%',shadow=True, startangle=90)\n",
        "plt.title(\"Pie Chart\")\n",
        "plt.show()\n",
        "print(count)"
      ],
      "metadata": {
        "colab": {
          "base_uri": "https://localhost:8080/",
          "height": 589
        },
        "id": "bfgqy7KH10VR",
        "outputId": "56114bce-a700-4b4c-cf0e-a4c45f40d7b8"
      },
      "execution_count": 345,
      "outputs": [
        {
          "output_type": "display_data",
          "data": {
            "text/plain": [
              "<Figure size 720x504 with 1 Axes>"
            ],
            "image/png": "[encoded data removed]"
          },
          "metadata": {}
        },
        {
          "output_type": "stream",
          "name": "stdout",
          "text": [
            "car                    337\n",
            "radio/TV               280\n",
            "furniture/equipment    181\n",
            "business                97\n",
            "education               59\n",
            "repairs                 22\n",
            "domestic appliances     12\n",
            "vacation/others         12\n",
            "Name: Purpose, dtype: int64\n"
          ]
        }
      ]
    },
    {
      "cell_type": "markdown",
      "source": [
        "Most people that applied for a credit loan for buying cars"
      ],
      "metadata": {
        "id": "BhRwmB2Q5mJB"
      }
    },
    {
      "cell_type": "markdown",
      "source": [
        "**Bivariate Plotting:**"
      ],
      "metadata": {
        "id": "TbNdg4-Vk3Wq"
      }
    },
    {
      "cell_type": "code",
      "source": [
        "sns.boxplot(x='Job', y='Credit_amount', \n",
        "                   data=data, palette=\"RdBu\", showmeans=True)# boxplot for credit amount and job"
      ],
      "metadata": {
        "colab": {
          "base_uri": "https://localhost:8080/",
          "height": 258
        },
        "id": "bU0uRhijXsoh",
        "outputId": "8a3780ff-fd9c-451e-f473-a3a3b47e282d"
      },
      "execution_count": 283,
      "outputs": [
        {
          "output_type": "execute_result",
          "data": {
            "text/plain": [
              "<matplotlib.axes._subplots.AxesSubplot at 0x7fb66365a950>"
            ]
          },
          "metadata": {},
          "execution_count": 283
        },
        {
          "output_type": "display_data",
          "data": {
            "text/plain": [
              "<Figure size 482.4x235.44 with 1 Axes>"
            ],
            "image/png": "[encoded data removed]"
          },
          "metadata": {
            "needs_background": "light"
          }
        }
      ]
    },
    {
      "cell_type": "markdown",
      "source": [
        "The people with 3 jobs have high credit amount. And have some outliers"
      ],
      "metadata": {
        "id": "lQK6FSA-9C_B"
      }
    },
    {
      "cell_type": "code",
      "source": [
        "sns.boxplot(x='Checking_account', y='Age', \n",
        "                   data=data, palette=\"RdBu\", showmeans=True) #boxplot for checking account and age"
      ],
      "metadata": {
        "colab": {
          "base_uri": "https://localhost:8080/",
          "height": 259
        },
        "id": "UEQ9I68aX1Sn",
        "outputId": "0d1a2955-f265-433d-dba4-583c011b19d3"
      },
      "execution_count": 285,
      "outputs": [
        {
          "output_type": "execute_result",
          "data": {
            "text/plain": [
              "<matplotlib.axes._subplots.AxesSubplot at 0x7fb6634d0250>"
            ]
          },
          "metadata": {},
          "execution_count": 285
        },
        {
          "output_type": "display_data",
          "data": {
            "text/plain": [
              "<Figure size 482.4x235.44 with 1 Axes>"
            ],
            "image/png": "[encoded data removed]"
          },
          "metadata": {
            "needs_background": "light"
          }
        }
      ]
    },
    {
      "cell_type": "markdown",
      "source": [
        "We have very less moderate people with the age of 25s-40s"
      ],
      "metadata": {
        "id": "m_KI4yBe9vbQ"
      }
    },
    {
      "cell_type": "code",
      "source": [
        "male_credit = data[\"Credit_amount\"].loc[data[\"Sex\"] == \"male\"].values # Getting male credit value\n",
        "female_credit = data[\"Credit_amount\"].loc[data[\"Sex\"] == \"female\"].values # Getting female credit value\n",
        "total_credit = data['Credit_amount'].values # Getting total credit value\n",
        "\n",
        "fig, ax = plt.subplots(1, 3, figsize=(16,4)) # to draw subplots \n",
        "\n",
        "sns.distplot(male_credit, ax=ax[0], color=\"#FE642E\") # distribution plot to show the male credit \n",
        "ax[0].set_title(\"Male Credit Distribution\", fontsize=16) \n",
        "sns.distplot(female_credit, ax=ax[1], color=\"#F781F3\") # distribution plot to show the female credit \n",
        "ax[1].set_title(\"Female Credit Distribution\", fontsize=16)\n",
        "sns.distplot(total_credit, ax=ax[2], color=\"#2E64FE\") # distribution plot to show the total credit \n",
        "ax[2].set_title(\"Total Credit Distribution\", fontsize=16)\n",
        "plt.grid()\n",
        "plt.show()"
      ],
      "metadata": {
        "colab": {
          "base_uri": "https://localhost:8080/",
          "height": 411
        },
        "id": "JOT-V1QZkPxi",
        "outputId": "12c35f02-9736-42d0-da21-035c1c6ec551"
      },
      "execution_count": 242,
      "outputs": [
        {
          "output_type": "stream",
          "name": "stderr",
          "text": [
            "/usr/local/lib/python3.7/dist-packages/seaborn/distributions.py:2619: FutureWarning: `distplot` is a deprecated function and will be removed in a future version. Please adapt your code to use either `displot` (a figure-level function with similar flexibility) or `histplot` (an axes-level function for histograms).\n",
            "  warnings.warn(msg, FutureWarning)\n",
            "/usr/local/lib/python3.7/dist-packages/seaborn/distributions.py:2619: FutureWarning: `distplot` is a deprecated function and will be removed in a future version. Please adapt your code to use either `displot` (a figure-level function with similar flexibility) or `histplot` (an axes-level function for histograms).\n",
            "  warnings.warn(msg, FutureWarning)\n",
            "/usr/local/lib/python3.7/dist-packages/seaborn/distributions.py:2619: FutureWarning: `distplot` is a deprecated function and will be removed in a future version. Please adapt your code to use either `displot` (a figure-level function with similar flexibility) or `histplot` (an axes-level function for histograms).\n",
            "  warnings.warn(msg, FutureWarning)\n"
          ]
        },
        {
          "output_type": "display_data",
          "data": {
            "text/plain": [
              "<Figure size 1152x288 with 3 Axes>"
            ],
            "image/png": "[encoded data removed]"
          },
          "metadata": {
            "needs_background": "light"
          }
        }
      ]
    },
    {
      "cell_type": "markdown",
      "source": [
        "Male credit distibution is very high. So here we can say that males are took more lonas than female."
      ],
      "metadata": {
        "id": "ruSb_UgY9-Lh"
      }
    },
    {
      "cell_type": "code",
      "source": [
        "# Gender vs Purpose let's see the purpose of having credit loans for each gender.\n",
        "data[\"Purpose\"].unique()\n",
        "sex_purpose = pd.crosstab(data['Purpose'], data['Sex']).apply(lambda x: x/x.sum() * 100)\n",
        "sex_purpose"
      ],
      "metadata": {
        "colab": {
          "base_uri": "https://localhost:8080/",
          "height": 331
        },
        "id": "MKmw3UPsR1M-",
        "outputId": "fe0fd6f6-6353-42f5-e94a-3283de69a88e"
      },
      "execution_count": 266,
      "outputs": [
        {
          "output_type": "execute_result",
          "data": {
            "text/plain": [
              "Sex                     female       male\n",
              "Purpose                                  \n",
              "business              6.129032  11.304348\n",
              "car                  30.322581  35.217391\n",
              "domestic appliances   1.935484   0.869565\n",
              "education             7.741935   5.072464\n",
              "furniture/equipment  23.870968  15.507246\n",
              "radio/TV             27.419355  28.260870\n",
              "repairs               1.612903   2.463768\n",
              "vacation/others       0.967742   1.304348"
            ],
            "text/html": [
              "\n",
              "  <div id=\"df-3fd9f2cb-f63f-45c5-bb0b-3c135ce00c4e\">\n",
              "    <div class=\"colab-df-container\">\n",
              "      <div>\n",
              "<style scoped>\n",
              "    .dataframe tbody tr th:only-of-type {\n",
              "        vertical-align: middle;\n",
              "    }\n",
              "\n",
              "    .dataframe tbody tr th {\n",
              "        vertical-align: top;\n",
              "    }\n",
              "\n",
              "    .dataframe thead th {\n",
              "        text-align: right;\n",
              "    }\n",
              "</style>\n",
              "<table border=\"1\" class=\"dataframe\">\n",
              "  <thead>\n",
              "    <tr style=\"text-align: right;\">\n",
              "      <th>Sex</th>\n",
              "      <th>female</th>\n",
              "      <th>male</th>\n",
              "    </tr>\n",
              "    <tr>\n",
              "      <th>Purpose</th>\n",
              "      <th></th>\n",
              "      <th></th>\n",
              "    </tr>\n",
              "  </thead>\n",
              "  <tbody>\n",
              "    <tr>\n",
              "      <th>business</th>\n",
              "      <td>6.129032</td>\n",
              "      <td>11.304348</td>\n",
              "    </tr>\n",
              "    <tr>\n",
              "      <th>car</th>\n",
              "      <td>30.322581</td>\n",
              "      <td>35.217391</td>\n",
              "    </tr>\n",
              "    <tr>\n",
              "      <th>domestic appliances</th>\n",
              "      <td>1.935484</td>\n",
              "      <td>0.869565</td>\n",
              "    </tr>\n",
              "    <tr>\n",
              "      <th>education</th>\n",
              "      <td>7.741935</td>\n",
              "      <td>5.072464</td>\n",
              "    </tr>\n",
              "    <tr>\n",
              "      <th>furniture/equipment</th>\n",
              "      <td>23.870968</td>\n",
              "      <td>15.507246</td>\n",
              "    </tr>\n",
              "    <tr>\n",
              "      <th>radio/TV</th>\n",
              "      <td>27.419355</td>\n",
              "      <td>28.260870</td>\n",
              "    </tr>\n",
              "    <tr>\n",
              "      <th>repairs</th>\n",
              "      <td>1.612903</td>\n",
              "      <td>2.463768</td>\n",
              "    </tr>\n",
              "    <tr>\n",
              "      <th>vacation/others</th>\n",
              "      <td>0.967742</td>\n",
              "      <td>1.304348</td>\n",
              "    </tr>\n",
              "  </tbody>\n",
              "</table>\n",
              "</div>\n",
              "      <button class=\"colab-df-convert\" onclick=\"convertToInteractive('df-3fd9f2cb-f63f-45c5-bb0b-3c135ce00c4e')\"\n",
              "              title=\"Convert this dataframe to an interactive table.\"\n",
              "              style=\"display:none;\">\n",
              "        \n",
              "  <svg xmlns=\"http://www.w3.org/2000/svg\" height=\"24px\"viewBox=\"0 0 24 24\"\n",
              "       width=\"24px\">\n",
              "    <path d=\"M0 0h24v24H0V0z\" fill=\"none\"/>\n",
              "    <path d=\"M18.56 5.44l.94 2.06.94-2.06 2.06-.94-2.06-.94-.94-2.06-.94 2.06-2.06.94zm-11 1L8.5 8.5l.94-2.06 2.06-.94-2.06-.94L8.5 2.5l-.94 2.06-2.06.94zm10 10l.94 2.06.94-2.06 2.06-.94-2.06-.94-.94-2.06-.94 2.06-2.06.94z\"/><path d=\"M17.41 7.96l-1.37-1.37c-.4-.4-.92-.59-1.43-.59-.52 0-1.04.2-1.43.59L10.3 9.45l-7.72 7.72c-.78.78-.78 2.05 0 2.83L4 21.41c.39.39.9.59 1.41.59.51 0 1.02-.2 1.41-.59l7.78-7.78 2.81-2.81c.8-.78.8-2.07 0-2.86zM5.41 20L4 18.59l7.72-7.72 1.47 1.35L5.41 20z\"/>\n",
              "  </svg>\n",
              "      </button>\n",
              "      \n",
              "  <style>\n",
              "    .colab-df-container {\n",
              "      display:flex;\n",
              "      flex-wrap:wrap;\n",
              "      gap: 12px;\n",
              "    }\n",
              "\n",
              "    .colab-df-convert {\n",
              "      background-color: #E8F0FE;\n",
              "      border: none;\n",
              "      border-radius: 50%;\n",
              "      cursor: pointer;\n",
              "      display: none;\n",
              "      fill: #1967D2;\n",
              "      height: 32px;\n",
              "      padding: 0 0 0 0;\n",
              "      width: 32px;\n",
              "    }\n",
              "\n",
              "    .colab-df-convert:hover {\n",
              "      background-color: #E2EBFA;\n",
              "      box-shadow: 0px 1px 2px rgba(60, 64, 67, 0.3), 0px 1px 3px 1px rgba(60, 64, 67, 0.15);\n",
              "      fill: #174EA6;\n",
              "    }\n",
              "\n",
              "    [theme=dark] .colab-df-convert {\n",
              "      background-color: #3B4455;\n",
              "      fill: #D2E3FC;\n",
              "    }\n",
              "\n",
              "    [theme=dark] .colab-df-convert:hover {\n",
              "      background-color: #434B5C;\n",
              "      box-shadow: 0px 1px 3px 1px rgba(0, 0, 0, 0.15);\n",
              "      filter: drop-shadow(0px 1px 2px rgba(0, 0, 0, 0.3));\n",
              "      fill: #FFFFFF;\n",
              "    }\n",
              "  </style>\n",
              "\n",
              "      <script>\n",
              "        const buttonEl =\n",
              "          document.querySelector('#df-3fd9f2cb-f63f-45c5-bb0b-3c135ce00c4e button.colab-df-convert');\n",
              "        buttonEl.style.display =\n",
              "          google.colab.kernel.accessAllowed ? 'block' : 'none';\n",
              "\n",
              "        async function convertToInteractive(key) {\n",
              "          const element = document.querySelector('#df-3fd9f2cb-f63f-45c5-bb0b-3c135ce00c4e');\n",
              "          const dataTable =\n",
              "            await google.colab.kernel.invokeFunction('convertToInteractive',\n",
              "                                                     [key], {});\n",
              "          if (!dataTable) return;\n",
              "\n",
              "          const docLinkHtml = 'Like what you see? Visit the ' +\n",
              "            '<a target=\"_blank\" href=https://colab.research.google.com/notebooks/data_table.ipynb>data table notebook</a>'\n",
              "            + ' to learn more about interactive tables.';\n",
              "          element.innerHTML = '';\n",
              "          dataTable['output_type'] = 'display_data';\n",
              "          await google.colab.output.renderOutput(dataTable, element);\n",
              "          const docLink = document.createElement('div');\n",
              "          docLink.innerHTML = docLinkHtml;\n",
              "          element.appendChild(docLink);\n",
              "        }\n",
              "      </script>\n",
              "    </div>\n",
              "  </div>\n",
              "  "
            ]
          },
          "metadata": {},
          "execution_count": 266
        }
      ]
    },
    {
      "cell_type": "markdown",
      "source": [
        "Females were more likely to apply for a credit loan tobuy furniture and equipment. (10% more than males)\n",
        "\n",
        "Males applied 2x more than females for a credit loan to invest in a business."
      ],
      "metadata": {
        "id": "IDpVZYHDT2OI"
      }
    },
    {
      "cell_type": "code",
      "source": [
        "male_age = data['Age'].loc[data['Sex'] == 'male'].values.tolist()\n",
        "sns.histplot(male_age)"
      ],
      "metadata": {
        "colab": {
          "base_uri": "https://localhost:8080/",
          "height": 244
        },
        "id": "rtOIcMspSwp_",
        "outputId": "963a4b7f-5e11-4a60-b169-72ecb731ca92"
      },
      "execution_count": 267,
      "outputs": [
        {
          "output_type": "execute_result",
          "data": {
            "text/plain": [
              "<matplotlib.axes._subplots.AxesSubplot at 0x7fb663c7a790>"
            ]
          },
          "metadata": {},
          "execution_count": 267
        },
        {
          "output_type": "display_data",
          "data": {
            "text/plain": [
              "<Figure size 482.4x235.44 with 1 Axes>"
            ],
            "image/png": "[encoded data removed]"
          },
          "metadata": {
            "needs_background": "light"
          }
        }
      ]
    },
    {
      "cell_type": "markdown",
      "source": [
        "Most of the males that applied for a loan ranged from their 20s-40s\n"
      ],
      "metadata": {
        "id": "eVR5Ie9vTtVJ"
      }
    },
    {
      "cell_type": "code",
      "source": [
        "female_age = data['Age'].loc[data['Sex'] == 'female'].values.tolist()\n",
        "sns.histplot(female_age)"
      ],
      "metadata": {
        "colab": {
          "base_uri": "https://localhost:8080/",
          "height": 246
        },
        "id": "5x0uOuM7S6HL",
        "outputId": "1e420aaa-74be-4804-c141-8d0347f48d69"
      },
      "execution_count": 268,
      "outputs": [
        {
          "output_type": "execute_result",
          "data": {
            "text/plain": [
              "<matplotlib.axes._subplots.AxesSubplot at 0x7fb663c15190>"
            ]
          },
          "metadata": {},
          "execution_count": 268
        },
        {
          "output_type": "display_data",
          "data": {
            "text/plain": [
              "<Figure size 482.4x235.44 with 1 Axes>"
            ],
            "image/png": "[encoded data removed]"
          },
          "metadata": {
            "needs_background": "light"
          }
        }
      ]
    },
    {
      "cell_type": "markdown",
      "source": [
        "Most females that applied for a credit loan were less than 30 ."
      ],
      "metadata": {
        "id": "_XNcW6NsTnZb"
      }
    },
    {
      "cell_type": "code",
      "source": [
        "rcParams['figure.figsize'] = 6.7,3.27 # we can fix the size of the figure\n",
        "sns.boxplot(x='Sex', y='Credit_amount', \n",
        "                   data=data, palette=\"RdBu\", showmeans=True)\n",
        "plt.grid()\n",
        "plt.show()"
      ],
      "metadata": {
        "colab": {
          "base_uri": "https://localhost:8080/",
          "height": 240
        },
        "id": "jy4BpK0BJ2Ob",
        "outputId": "d0e0bf2e-ef72-432b-e646-cf2588a66aca"
      },
      "execution_count": 244,
      "outputs": [
        {
          "output_type": "display_data",
          "data": {
            "text/plain": [
              "<Figure size 482.4x235.44 with 1 Axes>"
            ],
            "image/png": "[encoded data removed]"
          },
          "metadata": {
            "needs_background": "light"
          }
        }
      ]
    },
    {
      "cell_type": "markdown",
      "source": [
        "Male spending more compare to female"
      ],
      "metadata": {
        "id": "fyhrXjJ__QxF"
      }
    },
    {
      "cell_type": "code",
      "source": [
        "rcParams['figure.figsize'] = 11.7,3.27 # we can fix the size of the figure\n",
        "sns.countplot(x ='Purpose', hue = \"Sex\", data = data) # Examining the relationship between purpose and sex\n",
        "plt.grid()\n",
        "plt.show()"
      ],
      "metadata": {
        "colab": {
          "base_uri": "https://localhost:8080/",
          "height": 240
        },
        "id": "bTAbftHbmkID",
        "outputId": "c5a70be6-709a-4f0a-c517-ccddcf26c15b"
      },
      "execution_count": 245,
      "outputs": [
        {
          "output_type": "display_data",
          "data": {
            "text/plain": [
              "<Figure size 842.4x235.44 with 1 Axes>"
            ],
            "image/png": "[encoded data removed]"
          },
          "metadata": {
            "needs_background": "light"
          }
        }
      ]
    },
    {
      "cell_type": "markdown",
      "source": [
        "Male spent more money(took loans) to bought cards"
      ],
      "metadata": {
        "id": "cHXjfzpk_jO3"
      }
    },
    {
      "cell_type": "code",
      "source": [
        "rcParams['figure.figsize'] = 6.7,3.27 # we can fix the size of the figure\n",
        "sns.countplot(x ='Job', hue = \"Sex\", data = data) # Examining the relationship between Job and sex"
      ],
      "metadata": {
        "colab": {
          "base_uri": "https://localhost:8080/",
          "height": 258
        },
        "id": "YYh3y04iJVi6",
        "outputId": "49a8c56d-51ea-42d9-ce58-39a693cc4d09"
      },
      "execution_count": 246,
      "outputs": [
        {
          "output_type": "execute_result",
          "data": {
            "text/plain": [
              "<matplotlib.axes._subplots.AxesSubplot at 0x7fb664f131d0>"
            ]
          },
          "metadata": {},
          "execution_count": 246
        },
        {
          "output_type": "display_data",
          "data": {
            "text/plain": [
              "<Figure size 482.4x235.44 with 1 Axes>"
            ],
            "image/png": "[encoded data removed]"
          },
          "metadata": {
            "needs_background": "light"
          }
        }
      ]
    },
    {
      "cell_type": "markdown",
      "source": [
        "The people who took loans are male and skilled people."
      ],
      "metadata": {
        "id": "ndh_NYBg_7uG"
      }
    },
    {
      "cell_type": "code",
      "source": [
        "data[\"Sex\"].unique()\n",
        "sex_purpose = pd.crosstab(data['Sex'], data['Job']).apply(lambda x: x/x.sum() * 100)\n",
        "sex_purpose"
      ],
      "metadata": {
        "colab": {
          "base_uri": "https://localhost:8080/",
          "height": 143
        },
        "id": "X_yjZH5qUUVV",
        "outputId": "43fee593-e93b-4568-c303-618974d70d57"
      },
      "execution_count": 271,
      "outputs": [
        {
          "output_type": "execute_result",
          "data": {
            "text/plain": [
              "Job             0     1          2     3\n",
              "Sex                                     \n",
              "female  54.545455  32.0  31.269841  25.0\n",
              "male    45.454545  68.0  68.730159  75.0"
            ],
            "text/html": [
              "\n",
              "  <div id=\"df-a824597d-e973-4d51-b93b-99c3b5ffddc6\">\n",
              "    <div class=\"colab-df-container\">\n",
              "      <div>\n",
              "<style scoped>\n",
              "    .dataframe tbody tr th:only-of-type {\n",
              "        vertical-align: middle;\n",
              "    }\n",
              "\n",
              "    .dataframe tbody tr th {\n",
              "        vertical-align: top;\n",
              "    }\n",
              "\n",
              "    .dataframe thead th {\n",
              "        text-align: right;\n",
              "    }\n",
              "</style>\n",
              "<table border=\"1\" class=\"dataframe\">\n",
              "  <thead>\n",
              "    <tr style=\"text-align: right;\">\n",
              "      <th>Job</th>\n",
              "      <th>0</th>\n",
              "      <th>1</th>\n",
              "      <th>2</th>\n",
              "      <th>3</th>\n",
              "    </tr>\n",
              "    <tr>\n",
              "      <th>Sex</th>\n",
              "      <th></th>\n",
              "      <th></th>\n",
              "      <th></th>\n",
              "      <th></th>\n",
              "    </tr>\n",
              "  </thead>\n",
              "  <tbody>\n",
              "    <tr>\n",
              "      <th>female</th>\n",
              "      <td>54.545455</td>\n",
              "      <td>32.0</td>\n",
              "      <td>31.269841</td>\n",
              "      <td>25.0</td>\n",
              "    </tr>\n",
              "    <tr>\n",
              "      <th>male</th>\n",
              "      <td>45.454545</td>\n",
              "      <td>68.0</td>\n",
              "      <td>68.730159</td>\n",
              "      <td>75.0</td>\n",
              "    </tr>\n",
              "  </tbody>\n",
              "</table>\n",
              "</div>\n",
              "      <button class=\"colab-df-convert\" onclick=\"convertToInteractive('df-a824597d-e973-4d51-b93b-99c3b5ffddc6')\"\n",
              "              title=\"Convert this dataframe to an interactive table.\"\n",
              "              style=\"display:none;\">\n",
              "        \n",
              "  <svg xmlns=\"http://www.w3.org/2000/svg\" height=\"24px\"viewBox=\"0 0 24 24\"\n",
              "       width=\"24px\">\n",
              "    <path d=\"M0 0h24v24H0V0z\" fill=\"none\"/>\n",
              "    <path d=\"M18.56 5.44l.94 2.06.94-2.06 2.06-.94-2.06-.94-.94-2.06-.94 2.06-2.06.94zm-11 1L8.5 8.5l.94-2.06 2.06-.94-2.06-.94L8.5 2.5l-.94 2.06-2.06.94zm10 10l.94 2.06.94-2.06 2.06-.94-2.06-.94-.94-2.06-.94 2.06-2.06.94z\"/><path d=\"M17.41 7.96l-1.37-1.37c-.4-.4-.92-.59-1.43-.59-.52 0-1.04.2-1.43.59L10.3 9.45l-7.72 7.72c-.78.78-.78 2.05 0 2.83L4 21.41c.39.39.9.59 1.41.59.51 0 1.02-.2 1.41-.59l7.78-7.78 2.81-2.81c.8-.78.8-2.07 0-2.86zM5.41 20L4 18.59l7.72-7.72 1.47 1.35L5.41 20z\"/>\n",
              "  </svg>\n",
              "      </button>\n",
              "      \n",
              "  <style>\n",
              "    .colab-df-container {\n",
              "      display:flex;\n",
              "      flex-wrap:wrap;\n",
              "      gap: 12px;\n",
              "    }\n",
              "\n",
              "    .colab-df-convert {\n",
              "      background-color: #E8F0FE;\n",
              "      border: none;\n",
              "      border-radius: 50%;\n",
              "      cursor: pointer;\n",
              "      display: none;\n",
              "      fill: #1967D2;\n",
              "      height: 32px;\n",
              "      padding: 0 0 0 0;\n",
              "      width: 32px;\n",
              "    }\n",
              "\n",
              "    .colab-df-convert:hover {\n",
              "      background-color: #E2EBFA;\n",
              "      box-shadow: 0px 1px 2px rgba(60, 64, 67, 0.3), 0px 1px 3px 1px rgba(60, 64, 67, 0.15);\n",
              "      fill: #174EA6;\n",
              "    }\n",
              "\n",
              "    [theme=dark] .colab-df-convert {\n",
              "      background-color: #3B4455;\n",
              "      fill: #D2E3FC;\n",
              "    }\n",
              "\n",
              "    [theme=dark] .colab-df-convert:hover {\n",
              "      background-color: #434B5C;\n",
              "      box-shadow: 0px 1px 3px 1px rgba(0, 0, 0, 0.15);\n",
              "      filter: drop-shadow(0px 1px 2px rgba(0, 0, 0, 0.3));\n",
              "      fill: #FFFFFF;\n",
              "    }\n",
              "  </style>\n",
              "\n",
              "      <script>\n",
              "        const buttonEl =\n",
              "          document.querySelector('#df-a824597d-e973-4d51-b93b-99c3b5ffddc6 button.colab-df-convert');\n",
              "        buttonEl.style.display =\n",
              "          google.colab.kernel.accessAllowed ? 'block' : 'none';\n",
              "\n",
              "        async function convertToInteractive(key) {\n",
              "          const element = document.querySelector('#df-a824597d-e973-4d51-b93b-99c3b5ffddc6');\n",
              "          const dataTable =\n",
              "            await google.colab.kernel.invokeFunction('convertToInteractive',\n",
              "                                                     [key], {});\n",
              "          if (!dataTable) return;\n",
              "\n",
              "          const docLinkHtml = 'Like what you see? Visit the ' +\n",
              "            '<a target=\"_blank\" href=https://colab.research.google.com/notebooks/data_table.ipynb>data table notebook</a>'\n",
              "            + ' to learn more about interactive tables.';\n",
              "          element.innerHTML = '';\n",
              "          dataTable['output_type'] = 'display_data';\n",
              "          await google.colab.output.renderOutput(dataTable, element);\n",
              "          const docLink = document.createElement('div');\n",
              "          docLink.innerHTML = docLinkHtml;\n",
              "          element.appendChild(docLink);\n",
              "        }\n",
              "      </script>\n",
              "    </div>\n",
              "  </div>\n",
              "  "
            ]
          },
          "metadata": {},
          "execution_count": 271
        }
      ]
    },
    {
      "cell_type": "markdown",
      "source": [
        "2x of females were unemployed compared to males.\n",
        "\n",
        "2x of males worked 3 jobs compared to females.\n"
      ],
      "metadata": {
        "id": "Ae2kZKR2UG8W"
      }
    },
    {
      "cell_type": "markdown",
      "source": [
        "**Multivariate Plotting**"
      ],
      "metadata": {
        "id": "_l0s86juAf-o"
      }
    },
    {
      "cell_type": "code",
      "source": [
        "sns.pairplot(data)\n",
        "plt.show()"
      ],
      "metadata": {
        "colab": {
          "base_uri": "https://localhost:8080/",
          "height": 550
        },
        "id": "6aGp1TFPq6Se",
        "outputId": "0efab9ef-27b8-46c1-e371-56b3860859f8"
      },
      "execution_count": 247,
      "outputs": [
        {
          "output_type": "display_data",
          "data": {
            "text/plain": [
              "<Figure size 540x540 with 12 Axes>"
            ],
            "image/png": "[encoded data removed]"
          },
          "metadata": {
            "needs_background": "light"
          }
        }
      ]
    },
    {
      "cell_type": "markdown",
      "source": [
        "3. Conduct the following steps only as necessary along with the reason behind doing it with suitable steps;\n",
        "\n",
        "  1.   Missing values\n",
        "  2.   Erroneous/wrong values\n",
        "  3.   Skewed data and outliers\n",
        "\n",
        "\n",
        "\n",
        "\n",
        "\n"
      ],
      "metadata": {
        "id": "byE7A6802w48"
      }
    },
    {
      "cell_type": "markdown",
      "source": [
        "In our dataset we don't have any missing values like .(dot), /, # , etc,. So no need to perform any operations.\n",
        "\n",
        "We don't have any wrong values so need not do any thing.\n",
        "\n",
        "For 3rd one I already see the distribution, outliers of each column in the 2nd question. "
      ],
      "metadata": {
        "id": "ibFgQYcRAnUX"
      }
    },
    {
      "cell_type": "markdown",
      "source": [
        "4. How many highly skilled men (below 35 years) are staying in their own house?"
      ],
      "metadata": {
        "id": "OFB_h7IM3B1P"
      }
    },
    {
      "cell_type": "code",
      "source": [
        "highly_skilled = data[(data['Age']  < 35) & (data['Sex'] == 'male') & (data['Housing'] == 'own') & (data['Job'] == data.Job.max())]\n",
        "highly_skilled.head()"
      ],
      "metadata": {
        "colab": {
          "base_uri": "https://localhost:8080/",
          "height": 206
        },
        "id": "6-Jaep8e5e25",
        "outputId": "c50ad3ee-d86f-4ed2-af25-c766d76fb3a8"
      },
      "execution_count": 346,
      "outputs": [
        {
          "output_type": "execute_result",
          "data": {
            "text/plain": [
              "     Age   Sex  Job Housing Saving_accounts Checking_account  Credit_amount  \\\n",
              "9     28  male    3     own          little         moderate           5234   \n",
              "40    30  male    3     own      quite rich           little           2333   \n",
              "51    30  male    3     own          little         moderate           5965   \n",
              "88    30  male    3     own        moderate           little           2249   \n",
              "128   34  male    3     own          little         moderate           1860   \n",
              "\n",
              "     Duration   Purpose  \n",
              "9          30       car  \n",
              "40         30  radio/TV  \n",
              "51         27       car  \n",
              "88         18       car  \n",
              "128        12       car  "
            ],
            "text/html": [
              "\n",
              "  <div id=\"df-93d72851-c4df-4ac1-8b03-8fa274ddad6c\">\n",
              "    <div class=\"colab-df-container\">\n",
              "      <div>\n",
              "<style scoped>\n",
              "    .dataframe tbody tr th:only-of-type {\n",
              "        vertical-align: middle;\n",
              "    }\n",
              "\n",
              "    .dataframe tbody tr th {\n",
              "        vertical-align: top;\n",
              "    }\n",
              "\n",
              "    .dataframe thead th {\n",
              "        text-align: right;\n",
              "    }\n",
              "</style>\n",
              "<table border=\"1\" class=\"dataframe\">\n",
              "  <thead>\n",
              "    <tr style=\"text-align: right;\">\n",
              "      <th></th>\n",
              "      <th>Age</th>\n",
              "      <th>Sex</th>\n",
              "      <th>Job</th>\n",
              "      <th>Housing</th>\n",
              "      <th>Saving_accounts</th>\n",
              "      <th>Checking_account</th>\n",
              "      <th>Credit_amount</th>\n",
              "      <th>Duration</th>\n",
              "      <th>Purpose</th>\n",
              "    </tr>\n",
              "  </thead>\n",
              "  <tbody>\n",
              "    <tr>\n",
              "      <th>9</th>\n",
              "      <td>28</td>\n",
              "      <td>male</td>\n",
              "      <td>3</td>\n",
              "      <td>own</td>\n",
              "      <td>little</td>\n",
              "      <td>moderate</td>\n",
              "      <td>5234</td>\n",
              "      <td>30</td>\n",
              "      <td>car</td>\n",
              "    </tr>\n",
              "    <tr>\n",
              "      <th>40</th>\n",
              "      <td>30</td>\n",
              "      <td>male</td>\n",
              "      <td>3</td>\n",
              "      <td>own</td>\n",
              "      <td>quite rich</td>\n",
              "      <td>little</td>\n",
              "      <td>2333</td>\n",
              "      <td>30</td>\n",
              "      <td>radio/TV</td>\n",
              "    </tr>\n",
              "    <tr>\n",
              "      <th>51</th>\n",
              "      <td>30</td>\n",
              "      <td>male</td>\n",
              "      <td>3</td>\n",
              "      <td>own</td>\n",
              "      <td>little</td>\n",
              "      <td>moderate</td>\n",
              "      <td>5965</td>\n",
              "      <td>27</td>\n",
              "      <td>car</td>\n",
              "    </tr>\n",
              "    <tr>\n",
              "      <th>88</th>\n",
              "      <td>30</td>\n",
              "      <td>male</td>\n",
              "      <td>3</td>\n",
              "      <td>own</td>\n",
              "      <td>moderate</td>\n",
              "      <td>little</td>\n",
              "      <td>2249</td>\n",
              "      <td>18</td>\n",
              "      <td>car</td>\n",
              "    </tr>\n",
              "    <tr>\n",
              "      <th>128</th>\n",
              "      <td>34</td>\n",
              "      <td>male</td>\n",
              "      <td>3</td>\n",
              "      <td>own</td>\n",
              "      <td>little</td>\n",
              "      <td>moderate</td>\n",
              "      <td>1860</td>\n",
              "      <td>12</td>\n",
              "      <td>car</td>\n",
              "    </tr>\n",
              "  </tbody>\n",
              "</table>\n",
              "</div>\n",
              "      <button class=\"colab-df-convert\" onclick=\"convertToInteractive('df-93d72851-c4df-4ac1-8b03-8fa274ddad6c')\"\n",
              "              title=\"Convert this dataframe to an interactive table.\"\n",
              "              style=\"display:none;\">\n",
              "        \n",
              "  <svg xmlns=\"http://www.w3.org/2000/svg\" height=\"24px\"viewBox=\"0 0 24 24\"\n",
              "       width=\"24px\">\n",
              "    <path d=\"M0 0h24v24H0V0z\" fill=\"none\"/>\n",
              "    <path d=\"M18.56 5.44l.94 2.06.94-2.06 2.06-.94-2.06-.94-.94-2.06-.94 2.06-2.06.94zm-11 1L8.5 8.5l.94-2.06 2.06-.94-2.06-.94L8.5 2.5l-.94 2.06-2.06.94zm10 10l.94 2.06.94-2.06 2.06-.94-2.06-.94-.94-2.06-.94 2.06-2.06.94z\"/><path d=\"M17.41 7.96l-1.37-1.37c-.4-.4-.92-.59-1.43-.59-.52 0-1.04.2-1.43.59L10.3 9.45l-7.72 7.72c-.78.78-.78 2.05 0 2.83L4 21.41c.39.39.9.59 1.41.59.51 0 1.02-.2 1.41-.59l7.78-7.78 2.81-2.81c.8-.78.8-2.07 0-2.86zM5.41 20L4 18.59l7.72-7.72 1.47 1.35L5.41 20z\"/>\n",
              "  </svg>\n",
              "      </button>\n",
              "      \n",
              "  <style>\n",
              "    .colab-df-container {\n",
              "      display:flex;\n",
              "      flex-wrap:wrap;\n",
              "      gap: 12px;\n",
              "    }\n",
              "\n",
              "    .colab-df-convert {\n",
              "      background-color: #E8F0FE;\n",
              "      border: none;\n",
              "      border-radius: 50%;\n",
              "      cursor: pointer;\n",
              "      display: none;\n",
              "      fill: #1967D2;\n",
              "      height: 32px;\n",
              "      padding: 0 0 0 0;\n",
              "      width: 32px;\n",
              "    }\n",
              "\n",
              "    .colab-df-convert:hover {\n",
              "      background-color: #E2EBFA;\n",
              "      box-shadow: 0px 1px 2px rgba(60, 64, 67, 0.3), 0px 1px 3px 1px rgba(60, 64, 67, 0.15);\n",
              "      fill: #174EA6;\n",
              "    }\n",
              "\n",
              "    [theme=dark] .colab-df-convert {\n",
              "      background-color: #3B4455;\n",
              "      fill: #D2E3FC;\n",
              "    }\n",
              "\n",
              "    [theme=dark] .colab-df-convert:hover {\n",
              "      background-color: #434B5C;\n",
              "      box-shadow: 0px 1px 3px 1px rgba(0, 0, 0, 0.15);\n",
              "      filter: drop-shadow(0px 1px 2px rgba(0, 0, 0, 0.3));\n",
              "      fill: #FFFFFF;\n",
              "    }\n",
              "  </style>\n",
              "\n",
              "      <script>\n",
              "        const buttonEl =\n",
              "          document.querySelector('#df-93d72851-c4df-4ac1-8b03-8fa274ddad6c button.colab-df-convert');\n",
              "        buttonEl.style.display =\n",
              "          google.colab.kernel.accessAllowed ? 'block' : 'none';\n",
              "\n",
              "        async function convertToInteractive(key) {\n",
              "          const element = document.querySelector('#df-93d72851-c4df-4ac1-8b03-8fa274ddad6c');\n",
              "          const dataTable =\n",
              "            await google.colab.kernel.invokeFunction('convertToInteractive',\n",
              "                                                     [key], {});\n",
              "          if (!dataTable) return;\n",
              "\n",
              "          const docLinkHtml = 'Like what you see? Visit the ' +\n",
              "            '<a target=\"_blank\" href=https://colab.research.google.com/notebooks/data_table.ipynb>data table notebook</a>'\n",
              "            + ' to learn more about interactive tables.';\n",
              "          element.innerHTML = '';\n",
              "          dataTable['output_type'] = 'display_data';\n",
              "          await google.colab.output.renderOutput(dataTable, element);\n",
              "          const docLink = document.createElement('div');\n",
              "          docLink.innerHTML = docLinkHtml;\n",
              "          element.appendChild(docLink);\n",
              "        }\n",
              "      </script>\n",
              "    </div>\n",
              "  </div>\n",
              "  "
            ]
          },
          "metadata": {},
          "execution_count": 346
        }
      ]
    },
    {
      "cell_type": "markdown",
      "source": [
        "This is another solution for the above problem\n",
        "we can use catplot() "
      ],
      "metadata": {
        "id": "deMll_11BTn_"
      }
    },
    {
      "cell_type": "code",
      "source": [
        "g = sns.catplot(x=\"Sex\", y=\"Age\",\n",
        "                hue=\"Housing\", col=\"Job\",\n",
        "                data=data, kind=\"bar\",\n",
        "                height=4, aspect=.7);"
      ],
      "metadata": {
        "colab": {
          "base_uri": "https://localhost:8080/",
          "height": 297
        },
        "id": "NKDw1SYMeSBl",
        "outputId": "f86f5858-d351-4cb3-b572-dbdb259f42de"
      },
      "execution_count": 295,
      "outputs": [
        {
          "output_type": "display_data",
          "data": {
            "text/plain": [
              "<Figure size 862.9x288 with 4 Axes>"
            ],
            "image/png": "[encoded data removed]"
          },
          "metadata": {
            "needs_background": "light"
          }
        }
      ]
    },
    {
      "cell_type": "markdown",
      "source": [
        "5. Visualize men and females separately for their social status."
      ],
      "metadata": {
        "id": "xO0eihTz3RJl"
      }
    },
    {
      "cell_type": "markdown",
      "source": [
        "Here to finding the satatus of the male and female i'm using the savings_account to see their status."
      ],
      "metadata": {
        "id": "623DDjv3CWSu"
      }
    },
    {
      "cell_type": "code",
      "source": [
        "rcParams['figure.figsize'] = 6.7,3.27 # we can fix the size of the figure\n",
        "sns.countplot(x ='Saving_accounts', hue = 'Sex', data = data) # Examining the relationship between eduacation and gender\n",
        "plt.grid()\n",
        "plt.show()"
      ],
      "metadata": {
        "colab": {
          "base_uri": "https://localhost:8080/",
          "height": 241
        },
        "id": "aPaEYvzo7GFU",
        "outputId": "97c42162-36d4-49ae-fcb8-740eb9e17828"
      },
      "execution_count": 348,
      "outputs": [
        {
          "output_type": "display_data",
          "data": {
            "text/plain": [
              "<Figure size 482.4x235.44 with 1 Axes>"
            ],
            "image/png": "[encoded data removed]"
          },
          "metadata": {
            "needs_background": "light"
          }
        }
      ]
    },
    {
      "cell_type": "markdown",
      "source": [
        "By looking at the above grpah we can say that\n",
        "\n",
        "The more people who took the loan are poor men.\n",
        "\n",
        "We have only very less rich men.\n",
        "\n"
      ],
      "metadata": {
        "id": "E2mYBwt3BhbY"
      }
    }
  ]
}